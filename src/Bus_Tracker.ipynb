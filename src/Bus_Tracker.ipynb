{
 "cells": [
  {
   "cell_type": "code",
   "execution_count": 1,
   "metadata": {},
   "outputs": [],
   "source": [
    "from datetime import datetime\n",
    "from BTlibs.EDA import EDA\n",
    "from BTlibs.preprocessing import preprocessing\n",
    "from BTlibs.modules import conv_lstm"
   ]
  },
  {
   "cell_type": "code",
   "execution_count": 2,
   "metadata": {},
   "outputs": [],
   "source": [
    "def main():\n",
    "    \"\"\"\n",
    "    demo function.\n",
    "    \"\"\"\n",
    "    print(\"r\")\n",
    "    eda = EDA.EDAPerformer()\n",
    "    preprocess = preprocessing.Preprocess()\n",
    "    module = conv_lstm.ConvLSTMInputBuilder()\n",
    "\n",
    "    eda.start()\n",
    "    preprocess.start()\n",
    "    module.start()\n",
    "    return 0"
   ]
  },
  {
   "cell_type": "code",
   "execution_count": 3,
   "metadata": {},
   "outputs": [
    {
     "name": "stdout",
     "output_type": "stream",
     "text": [
      "EDA started\n",
      "preprocessing started\n",
      "ConvLSTM data-contracting started\n",
      "Bus tracker done. Duration: 0:00:00.003317\n"
     ]
    }
   ],
   "source": [
    "start = datetime.now()\n",
    "main()\n",
    "print(f\"Bus tracker done. Duration: {datetime.now() - start}\")"
   ]
  }
 ],
 "metadata": {
  "kernelspec": {
   "display_name": "Python 3",
   "language": "python",
   "name": "python3"
  },
  "language_info": {
   "codemirror_mode": {
    "name": "ipython",
    "version": 3
   },
   "file_extension": ".py",
   "mimetype": "text/x-python",
   "name": "python",
   "nbconvert_exporter": "python",
   "pygments_lexer": "ipython3",
   "version": "3.10.9"
  },
  "orig_nbformat": 4
 },
 "nbformat": 4,
 "nbformat_minor": 2
}
