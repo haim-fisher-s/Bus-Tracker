{
  "cells": [
    {
      "cell_type": "code",
      "source": [
        "import os\n",
        "os.chdir(\"/content/Bus-Tracker/src\")\n",
        "!git pull"
      ],
      "metadata": {
        "id": "VPtLjYOt7rTd",
        "outputId": "f4e87db9-2129-4b81-dd73-7e3159714fe1",
        "colab": {
          "base_uri": "https://localhost:8080/"
        }
      },
      "execution_count": 20,
      "outputs": [
        {
          "output_type": "stream",
          "name": "stdout",
          "text": [
            "Already up to date.\n"
          ]
        }
      ]
    },
    {
      "cell_type": "code",
      "execution_count": 21,
      "metadata": {
        "id": "H9yhGCzW7phd"
      },
      "outputs": [],
      "source": [
        "from datetime import datetime\n",
        "from BTlibs.EDA import EDA\n",
        "from BTlibs.preprocessing import preprocessing\n",
        "from BTlibs.modules import conv_lstm"
      ]
    },
    {
      "cell_type": "code",
      "execution_count": 22,
      "metadata": {
        "id": "EIDysTZ47phf"
      },
      "outputs": [],
      "source": [
        "def main():\n",
        "    \"\"\"\n",
        "    demo function.\n",
        "    \"\"\"\n",
        "    eda = EDA.EDAPerformer()\n",
        "    preprocess = preprocessing.Preprocess()\n",
        "    module = conv_lstm.ConvLSTMInputBuilder()\n",
        "\n",
        "    eda.start()\n",
        "    preprocess.start()\n",
        "    module.start()\n",
        "    return 0"
      ]
    },
    {
      "cell_type": "code",
      "execution_count": 23,
      "metadata": {
        "id": "3-6AcdnV7phf",
        "outputId": "873980a8-ba63-4d26-c387-8b0c79c3dafb",
        "colab": {
          "base_uri": "https://localhost:8080/"
        }
      },
      "outputs": [
        {
          "output_type": "stream",
          "name": "stdout",
          "text": [
            "EDA started\n",
            "preprocessing started\n",
            "ConvLSTM data-contracting started\n",
            "Bus tracker done. Duration: 0:00:00.001412\n"
          ]
        }
      ],
      "source": [
        "start = datetime.now()\n",
        "main()\n",
        "print(f\"Bus tracker done. Duration: {datetime.now() - start}\")"
      ]
    }
  ],
  "metadata": {
    "kernelspec": {
      "display_name": "Python 3",
      "language": "python",
      "name": "python3"
    },
    "language_info": {
      "codemirror_mode": {
        "name": "ipython",
        "version": 3
      },
      "file_extension": ".py",
      "mimetype": "text/x-python",
      "name": "python",
      "nbconvert_exporter": "python",
      "pygments_lexer": "ipython3",
      "version": "3.10.9"
    },
    "orig_nbformat": 4,
    "colab": {
      "provenance": []
    }
  },
  "nbformat": 4,
  "nbformat_minor": 0
}