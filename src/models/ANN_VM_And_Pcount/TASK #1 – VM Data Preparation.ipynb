{
 "cells": [
  {
   "cell_type": "markdown",
   "metadata": {
    "id": "08kdhB6JBOpl"
   },
   "source": [
    "##VM\n",
    "1.   Clean Data\n",
    "2.   Features Engineering\n",
    "3.   EDA\n"
   ]
  },
  {
   "cell_type": "code",
   "execution_count": 44,
   "metadata": {
    "id": "lbjjBcpKd2W8"
   },
   "outputs": [],
   "source": [
    "import os.path\n",
    "import tensorflow as tf\n",
    "import pickle\n",
    "import re\n",
    "import json\n",
    "import tensorflow as tf\n",
    "import pandas as pd\n",
    "import os\n",
    "import numpy as np\n",
    "from datetime import datetime\n",
    "import time\n",
    "import seaborn as sns\n",
    "import matplotlib.pyplot as plt\n",
    "from keras.models import Sequential\n",
    "from keras.layers import Dense\n",
    "sns.set()"
   ]
  },
  {
   "cell_type": "code",
   "execution_count": 45,
   "metadata": {},
   "outputs": [],
   "source": [
    "os.chdir(r\"C:\\Users\\aiah2\\Downloads\")"
   ]
  },
  {
   "cell_type": "code",
   "execution_count": 46,
   "metadata": {
    "id": "WLm4-NIdvAWg"
   },
   "outputs": [],
   "source": [
    "with open('vm_links.pkl', 'rb') as f:\n",
    "    data = pickle.load(f)"
   ]
  },
  {
   "cell_type": "markdown",
   "metadata": {
    "id": "42eK4RRc_L87"
   },
   "source": [
    "## Features Engineering"
   ]
  },
  {
   "cell_type": "code",
   "execution_count": 47,
   "metadata": {},
   "outputs": [
    {
     "data": {
      "text/plain": [
       "(4244252, 18)"
      ]
     },
     "execution_count": 47,
     "metadata": {},
     "output_type": "execute_result"
    }
   ],
   "source": [
    "data.shape"
   ]
  },
  {
   "cell_type": "code",
   "execution_count": 6,
   "metadata": {
    "colab": {
     "base_uri": "https://localhost:8080/",
     "height": 487
    },
    "id": "hdeSGGMm0yMA",
    "outputId": "6d02f789-5a4c-4c6f-c453-b7d07bd559dd"
   },
   "outputs": [
    {
     "data": {
      "text/html": [
       "<div>\n",
       "<style scoped>\n",
       "    .dataframe tbody tr th:only-of-type {\n",
       "        vertical-align: middle;\n",
       "    }\n",
       "\n",
       "    .dataframe tbody tr th {\n",
       "        vertical-align: top;\n",
       "    }\n",
       "\n",
       "    .dataframe thead th {\n",
       "        text-align: right;\n",
       "    }\n",
       "</style>\n",
       "<table border=\"1\" class=\"dataframe\">\n",
       "  <thead>\n",
       "    <tr style=\"text-align: right;\">\n",
       "      <th></th>\n",
       "      <th>TripId</th>\n",
       "      <th>OPERATOR_ID</th>\n",
       "      <th>CLUSTER_ID</th>\n",
       "      <th>License_Plate</th>\n",
       "      <th>LINE_SHORT_NAME</th>\n",
       "      <th>OriginAimedDepartureTime</th>\n",
       "      <th>LINE_DESC</th>\n",
       "      <th>RouteId</th>\n",
       "      <th>Direction</th>\n",
       "      <th>Alternative</th>\n",
       "      <th>stopOrder</th>\n",
       "      <th>actualArrivalTime</th>\n",
       "      <th>actualDepartureTime</th>\n",
       "      <th>Linkref</th>\n",
       "      <th>linkTime</th>\n",
       "      <th>time_first_stop(s)</th>\n",
       "      <th>Link_travel_time(s)</th>\n",
       "      <th>Trip_End</th>\n",
       "    </tr>\n",
       "  </thead>\n",
       "  <tbody>\n",
       "    <tr>\n",
       "      <th>0</th>\n",
       "      <td>1382429</td>\n",
       "      <td>3</td>\n",
       "      <td>91</td>\n",
       "      <td>7560469</td>\n",
       "      <td>102</td>\n",
       "      <td>2023-02-03 00:30:00</td>\n",
       "      <td>10102-1-#</td>\n",
       "      <td>10102</td>\n",
       "      <td>1</td>\n",
       "      <td>#</td>\n",
       "      <td>2</td>\n",
       "      <td>2023-02-03 00:31:53</td>\n",
       "      <td>2023-02-03 00:32:11</td>\n",
       "      <td>2721:2528</td>\n",
       "      <td>113</td>\n",
       "      <td>106</td>\n",
       "      <td>7</td>\n",
       "      <td>False</td>\n",
       "    </tr>\n",
       "    <tr>\n",
       "      <th>1</th>\n",
       "      <td>1382429</td>\n",
       "      <td>3</td>\n",
       "      <td>91</td>\n",
       "      <td>7560469</td>\n",
       "      <td>102</td>\n",
       "      <td>2023-02-03 00:30:00</td>\n",
       "      <td>10102-1-#</td>\n",
       "      <td>10102</td>\n",
       "      <td>1</td>\n",
       "      <td>#</td>\n",
       "      <td>3</td>\n",
       "      <td>2023-02-03 00:32:35</td>\n",
       "      <td>2023-02-03 00:32:49</td>\n",
       "      <td>2528:2339</td>\n",
       "      <td>42</td>\n",
       "      <td>18</td>\n",
       "      <td>24</td>\n",
       "      <td>False</td>\n",
       "    </tr>\n",
       "    <tr>\n",
       "      <th>2</th>\n",
       "      <td>1382429</td>\n",
       "      <td>3</td>\n",
       "      <td>91</td>\n",
       "      <td>7560469</td>\n",
       "      <td>102</td>\n",
       "      <td>2023-02-03 00:30:00</td>\n",
       "      <td>10102-1-#</td>\n",
       "      <td>10102</td>\n",
       "      <td>1</td>\n",
       "      <td>#</td>\n",
       "      <td>4</td>\n",
       "      <td>2023-02-03 00:33:14</td>\n",
       "      <td>2023-02-03 00:33:34</td>\n",
       "      <td>2339:2345</td>\n",
       "      <td>39</td>\n",
       "      <td>14</td>\n",
       "      <td>25</td>\n",
       "      <td>False</td>\n",
       "    </tr>\n",
       "    <tr>\n",
       "      <th>3</th>\n",
       "      <td>1382429</td>\n",
       "      <td>3</td>\n",
       "      <td>91</td>\n",
       "      <td>7560469</td>\n",
       "      <td>102</td>\n",
       "      <td>2023-02-03 00:30:00</td>\n",
       "      <td>10102-1-#</td>\n",
       "      <td>10102</td>\n",
       "      <td>1</td>\n",
       "      <td>#</td>\n",
       "      <td>7</td>\n",
       "      <td>2023-02-03 00:34:34</td>\n",
       "      <td>2023-02-03 00:34:53</td>\n",
       "      <td>2150:2152</td>\n",
       "      <td>24</td>\n",
       "      <td>16</td>\n",
       "      <td>8</td>\n",
       "      <td>False</td>\n",
       "    </tr>\n",
       "    <tr>\n",
       "      <th>4</th>\n",
       "      <td>1382429</td>\n",
       "      <td>3</td>\n",
       "      <td>91</td>\n",
       "      <td>7560469</td>\n",
       "      <td>102</td>\n",
       "      <td>2023-02-03 00:30:00</td>\n",
       "      <td>10102-1-#</td>\n",
       "      <td>10102</td>\n",
       "      <td>1</td>\n",
       "      <td>#</td>\n",
       "      <td>8</td>\n",
       "      <td>2023-02-03 00:35:09</td>\n",
       "      <td>2023-02-03 00:35:30</td>\n",
       "      <td>2152:2163</td>\n",
       "      <td>35</td>\n",
       "      <td>19</td>\n",
       "      <td>16</td>\n",
       "      <td>False</td>\n",
       "    </tr>\n",
       "    <tr>\n",
       "      <th>...</th>\n",
       "      <td>...</td>\n",
       "      <td>...</td>\n",
       "      <td>...</td>\n",
       "      <td>...</td>\n",
       "      <td>...</td>\n",
       "      <td>...</td>\n",
       "      <td>...</td>\n",
       "      <td>...</td>\n",
       "      <td>...</td>\n",
       "      <td>...</td>\n",
       "      <td>...</td>\n",
       "      <td>...</td>\n",
       "      <td>...</td>\n",
       "      <td>...</td>\n",
       "      <td>...</td>\n",
       "      <td>...</td>\n",
       "      <td>...</td>\n",
       "      <td>...</td>\n",
       "    </tr>\n",
       "    <tr>\n",
       "      <th>4244247</th>\n",
       "      <td>11863404</td>\n",
       "      <td>3</td>\n",
       "      <td>91</td>\n",
       "      <td>7547869</td>\n",
       "      <td>4</td>\n",
       "      <td>2023-02-28 08:00:00</td>\n",
       "      <td>70004-2-#</td>\n",
       "      <td>70004</td>\n",
       "      <td>2</td>\n",
       "      <td>#</td>\n",
       "      <td>24</td>\n",
       "      <td>2023-02-28 08:33:22</td>\n",
       "      <td>2023-02-28 08:33:37</td>\n",
       "      <td>1849:1850</td>\n",
       "      <td>24</td>\n",
       "      <td>18</td>\n",
       "      <td>6</td>\n",
       "      <td>False</td>\n",
       "    </tr>\n",
       "    <tr>\n",
       "      <th>4244248</th>\n",
       "      <td>11863404</td>\n",
       "      <td>3</td>\n",
       "      <td>91</td>\n",
       "      <td>7547869</td>\n",
       "      <td>4</td>\n",
       "      <td>2023-02-28 08:00:00</td>\n",
       "      <td>70004-2-#</td>\n",
       "      <td>70004</td>\n",
       "      <td>2</td>\n",
       "      <td>#</td>\n",
       "      <td>25</td>\n",
       "      <td>2023-02-28 08:34:05</td>\n",
       "      <td>2023-02-28 08:34:25</td>\n",
       "      <td>1850:1852</td>\n",
       "      <td>43</td>\n",
       "      <td>15</td>\n",
       "      <td>28</td>\n",
       "      <td>False</td>\n",
       "    </tr>\n",
       "    <tr>\n",
       "      <th>4244249</th>\n",
       "      <td>11863404</td>\n",
       "      <td>3</td>\n",
       "      <td>91</td>\n",
       "      <td>7547869</td>\n",
       "      <td>4</td>\n",
       "      <td>2023-02-28 08:00:00</td>\n",
       "      <td>70004-2-#</td>\n",
       "      <td>70004</td>\n",
       "      <td>2</td>\n",
       "      <td>#</td>\n",
       "      <td>26</td>\n",
       "      <td>2023-02-28 08:35:02</td>\n",
       "      <td>2023-02-28 08:35:31</td>\n",
       "      <td>1852:956</td>\n",
       "      <td>57</td>\n",
       "      <td>20</td>\n",
       "      <td>37</td>\n",
       "      <td>False</td>\n",
       "    </tr>\n",
       "    <tr>\n",
       "      <th>4244250</th>\n",
       "      <td>11863404</td>\n",
       "      <td>3</td>\n",
       "      <td>91</td>\n",
       "      <td>7547869</td>\n",
       "      <td>4</td>\n",
       "      <td>2023-02-28 08:00:00</td>\n",
       "      <td>70004-2-#</td>\n",
       "      <td>70004</td>\n",
       "      <td>2</td>\n",
       "      <td>#</td>\n",
       "      <td>27</td>\n",
       "      <td>2023-02-28 08:36:05</td>\n",
       "      <td>2023-02-28 08:36:16</td>\n",
       "      <td>956:2167</td>\n",
       "      <td>63</td>\n",
       "      <td>29</td>\n",
       "      <td>34</td>\n",
       "      <td>False</td>\n",
       "    </tr>\n",
       "    <tr>\n",
       "      <th>4244251</th>\n",
       "      <td>11863404</td>\n",
       "      <td>3</td>\n",
       "      <td>91</td>\n",
       "      <td>7547869</td>\n",
       "      <td>4</td>\n",
       "      <td>2023-02-28 08:00:00</td>\n",
       "      <td>70004-2-#</td>\n",
       "      <td>70004</td>\n",
       "      <td>2</td>\n",
       "      <td>#</td>\n",
       "      <td>32</td>\n",
       "      <td>2023-02-28 08:40:55</td>\n",
       "      <td>NaT</td>\n",
       "      <td>2529:2535</td>\n",
       "      <td>64</td>\n",
       "      <td>15</td>\n",
       "      <td>49</td>\n",
       "      <td>True</td>\n",
       "    </tr>\n",
       "  </tbody>\n",
       "</table>\n",
       "<p>4244252 rows × 18 columns</p>\n",
       "</div>"
      ],
      "text/plain": [
       "           TripId  OPERATOR_ID  CLUSTER_ID  License_Plate LINE_SHORT_NAME  \\\n",
       "0         1382429            3          91        7560469             102   \n",
       "1         1382429            3          91        7560469             102   \n",
       "2         1382429            3          91        7560469             102   \n",
       "3         1382429            3          91        7560469             102   \n",
       "4         1382429            3          91        7560469             102   \n",
       "...           ...          ...         ...            ...             ...   \n",
       "4244247  11863404            3          91        7547869               4   \n",
       "4244248  11863404            3          91        7547869               4   \n",
       "4244249  11863404            3          91        7547869               4   \n",
       "4244250  11863404            3          91        7547869               4   \n",
       "4244251  11863404            3          91        7547869               4   \n",
       "\n",
       "        OriginAimedDepartureTime  LINE_DESC RouteId Direction Alternative  \\\n",
       "0            2023-02-03 00:30:00  10102-1-#   10102         1           #   \n",
       "1            2023-02-03 00:30:00  10102-1-#   10102         1           #   \n",
       "2            2023-02-03 00:30:00  10102-1-#   10102         1           #   \n",
       "3            2023-02-03 00:30:00  10102-1-#   10102         1           #   \n",
       "4            2023-02-03 00:30:00  10102-1-#   10102         1           #   \n",
       "...                          ...        ...     ...       ...         ...   \n",
       "4244247      2023-02-28 08:00:00  70004-2-#   70004         2           #   \n",
       "4244248      2023-02-28 08:00:00  70004-2-#   70004         2           #   \n",
       "4244249      2023-02-28 08:00:00  70004-2-#   70004         2           #   \n",
       "4244250      2023-02-28 08:00:00  70004-2-#   70004         2           #   \n",
       "4244251      2023-02-28 08:00:00  70004-2-#   70004         2           #   \n",
       "\n",
       "         stopOrder   actualArrivalTime actualDepartureTime    Linkref  \\\n",
       "0                2 2023-02-03 00:31:53 2023-02-03 00:32:11  2721:2528   \n",
       "1                3 2023-02-03 00:32:35 2023-02-03 00:32:49  2528:2339   \n",
       "2                4 2023-02-03 00:33:14 2023-02-03 00:33:34  2339:2345   \n",
       "3                7 2023-02-03 00:34:34 2023-02-03 00:34:53  2150:2152   \n",
       "4                8 2023-02-03 00:35:09 2023-02-03 00:35:30  2152:2163   \n",
       "...            ...                 ...                 ...        ...   \n",
       "4244247         24 2023-02-28 08:33:22 2023-02-28 08:33:37  1849:1850   \n",
       "4244248         25 2023-02-28 08:34:05 2023-02-28 08:34:25  1850:1852   \n",
       "4244249         26 2023-02-28 08:35:02 2023-02-28 08:35:31   1852:956   \n",
       "4244250         27 2023-02-28 08:36:05 2023-02-28 08:36:16   956:2167   \n",
       "4244251         32 2023-02-28 08:40:55                 NaT  2529:2535   \n",
       "\n",
       "         linkTime  time_first_stop(s)  Link_travel_time(s)  Trip_End  \n",
       "0             113                 106                    7     False  \n",
       "1              42                  18                   24     False  \n",
       "2              39                  14                   25     False  \n",
       "3              24                  16                    8     False  \n",
       "4              35                  19                   16     False  \n",
       "...           ...                 ...                  ...       ...  \n",
       "4244247        24                  18                    6     False  \n",
       "4244248        43                  15                   28     False  \n",
       "4244249        57                  20                   37     False  \n",
       "4244250        63                  29                   34     False  \n",
       "4244251        64                  15                   49      True  \n",
       "\n",
       "[4244252 rows x 18 columns]"
      ]
     },
     "execution_count": 6,
     "metadata": {},
     "output_type": "execute_result"
    }
   ],
   "source": [
    "data"
   ]
  },
  {
   "cell_type": "code",
   "execution_count": 7,
   "metadata": {
    "colab": {
     "base_uri": "https://localhost:8080/"
    },
    "id": "O6-1ElYsme3Z",
    "outputId": "ebe6aaa4-092d-4320-e972-ef796167ae1f"
   },
   "outputs": [
    {
     "data": {
      "text/plain": [
       "TripId                               int64\n",
       "OPERATOR_ID                          int64\n",
       "CLUSTER_ID                           int64\n",
       "License_Plate                        int64\n",
       "LINE_SHORT_NAME                     object\n",
       "OriginAimedDepartureTime    datetime64[ns]\n",
       "LINE_DESC                           object\n",
       "RouteId                             object\n",
       "Direction                           object\n",
       "Alternative                         object\n",
       "stopOrder                            int64\n",
       "actualArrivalTime           datetime64[ns]\n",
       "actualDepartureTime         datetime64[ns]\n",
       "Linkref                             object\n",
       "linkTime                             int64\n",
       "time_first_stop(s)                   int64\n",
       "Link_travel_time(s)                  int64\n",
       "Trip_End                              bool\n",
       "dtype: object"
      ]
     },
     "execution_count": 7,
     "metadata": {},
     "output_type": "execute_result"
    }
   ],
   "source": [
    "data.dtypes"
   ]
  },
  {
   "cell_type": "code",
   "execution_count": 8,
   "metadata": {
    "colab": {
     "base_uri": "https://localhost:8080/"
    },
    "id": "kLRtV-3ex-ce",
    "outputId": "01e402e3-bac0-46ee-9280-213f74a3666e"
   },
   "outputs": [
    {
     "data": {
      "text/plain": [
       "TripId                           0\n",
       "OPERATOR_ID                      0\n",
       "CLUSTER_ID                       0\n",
       "License_Plate                    0\n",
       "LINE_SHORT_NAME                  0\n",
       "OriginAimedDepartureTime         0\n",
       "LINE_DESC                        0\n",
       "RouteId                          0\n",
       "Direction                        0\n",
       "Alternative                      0\n",
       "stopOrder                        0\n",
       "actualArrivalTime                0\n",
       "actualDepartureTime         121108\n",
       "Linkref                          0\n",
       "linkTime                         0\n",
       "time_first_stop(s)               0\n",
       "Link_travel_time(s)              0\n",
       "Trip_End                         0\n",
       "dtype: int64"
      ]
     },
     "execution_count": 8,
     "metadata": {},
     "output_type": "execute_result"
    }
   ],
   "source": [
    "data.isnull().sum() # which columns has missing values"
   ]
  },
  {
   "cell_type": "code",
   "execution_count": 48,
   "metadata": {
    "id": "QStYbZvvRnB7"
   },
   "outputs": [],
   "source": [
    "data.drop(columns = ['OPERATOR_ID', 'CLUSTER_ID', 'License_Plate', 'Alternative', 'linkTime', 'Link_travel_time(s)', 'time_first_stop(s)', 'LINE_DESC','RouteId'], axis=1, inplace = True)"
   ]
  },
  {
   "cell_type": "code",
   "execution_count": 49,
   "metadata": {
    "id": "ZK9Q91LaRo_0"
   },
   "outputs": [],
   "source": [
    "data[\"direction\"] = [1 if x == \"2\" else 0 for x in data.Direction]"
   ]
  },
  {
   "cell_type": "code",
   "execution_count": 50,
   "metadata": {
    "id": "-qxANZb1Ro9G"
   },
   "outputs": [],
   "source": [
    "data.drop(columns = ['Direction'], axis=1, inplace = True)"
   ]
  },
  {
   "cell_type": "code",
   "execution_count": 51,
   "metadata": {},
   "outputs": [],
   "source": [
    "data = data.sort_values(['TripId', 'actualArrivalTime']).reset_index(drop=True)"
   ]
  },
  {
   "cell_type": "code",
   "execution_count": 52,
   "metadata": {
    "id": "wH7ZYRSpSApn"
   },
   "outputs": [],
   "source": [
    "# Drop NaT values, which represent last stops for each trip:\n",
    "data = data[data.Trip_End == False].copy()\n",
    "data.drop(columns = ['Trip_End'], axis=1, inplace = True)"
   ]
  },
  {
   "cell_type": "code",
   "execution_count": 53,
   "metadata": {
    "colab": {
     "base_uri": "https://localhost:8080/",
     "height": 480
    },
    "id": "kPa7gmJGyLI6",
    "outputId": "4958df11-167d-4ef7-c64d-f3ae94225042"
   },
   "outputs": [
    {
     "data": {
      "image/png": "[encoded data removed]",
      "text/plain": [
       "<Figure size 432x288 with 1 Axes>"
      ]
     },
     "metadata": {},
     "output_type": "display_data"
    }
   ],
   "source": [
    "counts = data['LINE_SHORT_NAME'].value_counts()\n",
    "bins = [20000*i for i in range(10)]\n",
    "counts.plot.hist(bins=bins, alpha=0.7, color='#86bf91',rwidth=0.9)\n",
    "plt.title('Histogram of Lines')\n",
    "plt.xlabel('Lines')\n",
    "plt.ylabel('Frequency')\n",
    "plt.show()"
   ]
  },
  {
   "cell_type": "code",
   "execution_count": 32,
   "metadata": {
    "colab": {
     "base_uri": "https://localhost:8080/"
    },
    "id": "DZLMZWB-yhqM",
    "outputId": "09b28006-2c81-468a-8242-a98d8b8b2969"
   },
   "outputs": [
    {
     "data": {
      "text/plain": [
       "[0, 20000, 40000, 60000, 80000, 100000, 120000, 140000, 160000, 180000]"
      ]
     },
     "execution_count": 32,
     "metadata": {},
     "output_type": "execute_result"
    }
   ],
   "source": [
    "bins"
   ]
  },
  {
   "cell_type": "code",
   "execution_count": 54,
   "metadata": {
    "colab": {
     "base_uri": "https://localhost:8080/"
    },
    "id": "ELbb-kjmyMM6",
    "outputId": "e85e9ea8-b008-4afd-8eeb-ce326de3efe6"
   },
   "outputs": [
    {
     "data": {
      "text/plain": [
       "count       147.000000\n",
       "mean      28048.598639\n",
       "std       43038.403069\n",
       "min          38.000000\n",
       "25%         636.500000\n",
       "50%        1847.000000\n",
       "75%       42693.500000\n",
       "max      166616.000000\n",
       "Name: LINE_SHORT_NAME, dtype: float64"
      ]
     },
     "execution_count": 54,
     "metadata": {},
     "output_type": "execute_result"
    }
   ],
   "source": [
    "counts.describe()"
   ]
  },
  {
   "cell_type": "code",
   "execution_count": 55,
   "metadata": {
    "colab": {
     "base_uri": "https://localhost:8080/"
    },
    "id": "fpgzY43-1msg",
    "outputId": "195010ec-56c4-489d-966d-8878bb25c7bc"
   },
   "outputs": [
    {
     "data": {
      "text/plain": [
       "52     166616\n",
       "33     149751\n",
       "15     147236\n",
       "55     141574\n",
       "12     137583\n",
       "        ...  \n",
       "800       204\n",
       "728       197\n",
       "76        176\n",
       "6א         43\n",
       "905        38\n",
       "Name: LINE_SHORT_NAME, Length: 147, dtype: int64"
      ]
     },
     "execution_count": 55,
     "metadata": {},
     "output_type": "execute_result"
    }
   ],
   "source": [
    "counts"
   ]
  },
  {
   "cell_type": "code",
   "execution_count": 56,
   "metadata": {
    "id": "xNbOBsrgSOER"
   },
   "outputs": [
    {
     "data": {
      "text/plain": [
       "Index(['952', '781', '741',   783, '787',  '9א', '953', '743', '903',   753,\n",
       "       '22א', '901',    98, '814',   782,   763, '59א', '772', '816', '806',\n",
       "         810, '807', '972', '817', '755', '800', '728',    76,  '6א', '905'],\n",
       "      dtype='object')"
      ]
     },
     "execution_count": 56,
     "metadata": {},
     "output_type": "execute_result"
    }
   ],
   "source": [
    "min30 = counts.index[-30:]\n",
    "min30"
   ]
  },
  {
   "cell_type": "code",
   "execution_count": 57,
   "metadata": {
    "id": "YcFRHTMlSN07"
   },
   "outputs": [],
   "source": [
    "data = data[~(data.LINE_SHORT_NAME.isin(min30))].copy()"
   ]
  },
  {
   "cell_type": "code",
   "execution_count": 58,
   "metadata": {
    "colab": {
     "base_uri": "https://localhost:8080/",
     "height": 487
    },
    "id": "9V4zgcdTMWyd",
    "outputId": "17bfec39-6dc2-4e33-f852-6b2dc03e7acd"
   },
   "outputs": [
    {
     "data": {
      "text/html": [
       "<div>\n",
       "<style scoped>\n",
       "    .dataframe tbody tr th:only-of-type {\n",
       "        vertical-align: middle;\n",
       "    }\n",
       "\n",
       "    .dataframe tbody tr th {\n",
       "        vertical-align: top;\n",
       "    }\n",
       "\n",
       "    .dataframe thead th {\n",
       "        text-align: right;\n",
       "    }\n",
       "</style>\n",
       "<table border=\"1\" class=\"dataframe\">\n",
       "  <thead>\n",
       "    <tr style=\"text-align: right;\">\n",
       "      <th></th>\n",
       "      <th>TripId</th>\n",
       "      <th>LINE_SHORT_NAME</th>\n",
       "      <th>OriginAimedDepartureTime</th>\n",
       "      <th>stopOrder</th>\n",
       "      <th>actualArrivalTime</th>\n",
       "      <th>actualDepartureTime</th>\n",
       "      <th>Linkref</th>\n",
       "      <th>direction</th>\n",
       "    </tr>\n",
       "  </thead>\n",
       "  <tbody>\n",
       "    <tr>\n",
       "      <th>0</th>\n",
       "      <td>0</td>\n",
       "      <td>1</td>\n",
       "      <td>2023-02-01 04:23:00</td>\n",
       "      <td>3</td>\n",
       "      <td>2023-02-01 04:24:54</td>\n",
       "      <td>2023-02-01 04:25:13</td>\n",
       "      <td>3374:4216</td>\n",
       "      <td>0</td>\n",
       "    </tr>\n",
       "    <tr>\n",
       "      <th>1</th>\n",
       "      <td>0</td>\n",
       "      <td>1</td>\n",
       "      <td>2023-02-01 04:23:00</td>\n",
       "      <td>4</td>\n",
       "      <td>2023-02-01 04:26:51</td>\n",
       "      <td>2023-02-01 04:27:28</td>\n",
       "      <td>4216:4169</td>\n",
       "      <td>0</td>\n",
       "    </tr>\n",
       "    <tr>\n",
       "      <th>2</th>\n",
       "      <td>0</td>\n",
       "      <td>1</td>\n",
       "      <td>2023-02-01 04:23:00</td>\n",
       "      <td>5</td>\n",
       "      <td>2023-02-01 04:27:42</td>\n",
       "      <td>2023-02-01 04:28:02</td>\n",
       "      <td>4169:78</td>\n",
       "      <td>0</td>\n",
       "    </tr>\n",
       "    <tr>\n",
       "      <th>3</th>\n",
       "      <td>0</td>\n",
       "      <td>1</td>\n",
       "      <td>2023-02-01 04:23:00</td>\n",
       "      <td>6</td>\n",
       "      <td>2023-02-01 04:28:32</td>\n",
       "      <td>2023-02-01 04:28:50</td>\n",
       "      <td>78:84</td>\n",
       "      <td>0</td>\n",
       "    </tr>\n",
       "    <tr>\n",
       "      <th>4</th>\n",
       "      <td>0</td>\n",
       "      <td>1</td>\n",
       "      <td>2023-02-01 04:23:00</td>\n",
       "      <td>7</td>\n",
       "      <td>2023-02-01 04:29:13</td>\n",
       "      <td>2023-02-01 04:29:27</td>\n",
       "      <td>84:1917</td>\n",
       "      <td>0</td>\n",
       "    </tr>\n",
       "    <tr>\n",
       "      <th>...</th>\n",
       "      <td>...</td>\n",
       "      <td>...</td>\n",
       "      <td>...</td>\n",
       "      <td>...</td>\n",
       "      <td>...</td>\n",
       "      <td>...</td>\n",
       "      <td>...</td>\n",
       "      <td>...</td>\n",
       "    </tr>\n",
       "    <tr>\n",
       "      <th>4244047</th>\n",
       "      <td>585070645</td>\n",
       "      <td>49</td>\n",
       "      <td>2023-02-26 00:00:00</td>\n",
       "      <td>36</td>\n",
       "      <td>2023-02-26 00:39:19</td>\n",
       "      <td>2023-02-26 00:39:32</td>\n",
       "      <td>1926:1809</td>\n",
       "      <td>1</td>\n",
       "    </tr>\n",
       "    <tr>\n",
       "      <th>4244048</th>\n",
       "      <td>585070645</td>\n",
       "      <td>49</td>\n",
       "      <td>2023-02-26 00:00:00</td>\n",
       "      <td>37</td>\n",
       "      <td>2023-02-26 00:39:49</td>\n",
       "      <td>2023-02-26 00:40:01</td>\n",
       "      <td>1809:9970</td>\n",
       "      <td>1</td>\n",
       "    </tr>\n",
       "    <tr>\n",
       "      <th>4244049</th>\n",
       "      <td>585070645</td>\n",
       "      <td>49</td>\n",
       "      <td>2023-02-26 00:00:00</td>\n",
       "      <td>42</td>\n",
       "      <td>2023-02-26 00:41:40</td>\n",
       "      <td>2023-02-26 00:41:58</td>\n",
       "      <td>1488:1812</td>\n",
       "      <td>1</td>\n",
       "    </tr>\n",
       "    <tr>\n",
       "      <th>4244050</th>\n",
       "      <td>585070645</td>\n",
       "      <td>49</td>\n",
       "      <td>2023-02-26 00:00:00</td>\n",
       "      <td>43</td>\n",
       "      <td>2023-02-26 00:42:34</td>\n",
       "      <td>2023-02-26 00:42:50</td>\n",
       "      <td>1812:60028</td>\n",
       "      <td>1</td>\n",
       "    </tr>\n",
       "    <tr>\n",
       "      <th>4244051</th>\n",
       "      <td>585070645</td>\n",
       "      <td>49</td>\n",
       "      <td>2023-02-26 00:00:00</td>\n",
       "      <td>44</td>\n",
       "      <td>2023-02-26 00:43:09</td>\n",
       "      <td>2023-02-26 00:43:26</td>\n",
       "      <td>60028:61157</td>\n",
       "      <td>1</td>\n",
       "    </tr>\n",
       "  </tbody>\n",
       "</table>\n",
       "<p>4112040 rows × 8 columns</p>\n",
       "</div>"
      ],
      "text/plain": [
       "            TripId LINE_SHORT_NAME OriginAimedDepartureTime  stopOrder  \\\n",
       "0                0               1      2023-02-01 04:23:00          3   \n",
       "1                0               1      2023-02-01 04:23:00          4   \n",
       "2                0               1      2023-02-01 04:23:00          5   \n",
       "3                0               1      2023-02-01 04:23:00          6   \n",
       "4                0               1      2023-02-01 04:23:00          7   \n",
       "...            ...             ...                      ...        ...   \n",
       "4244047  585070645              49      2023-02-26 00:00:00         36   \n",
       "4244048  585070645              49      2023-02-26 00:00:00         37   \n",
       "4244049  585070645              49      2023-02-26 00:00:00         42   \n",
       "4244050  585070645              49      2023-02-26 00:00:00         43   \n",
       "4244051  585070645              49      2023-02-26 00:00:00         44   \n",
       "\n",
       "          actualArrivalTime actualDepartureTime      Linkref  direction  \n",
       "0       2023-02-01 04:24:54 2023-02-01 04:25:13    3374:4216          0  \n",
       "1       2023-02-01 04:26:51 2023-02-01 04:27:28    4216:4169          0  \n",
       "2       2023-02-01 04:27:42 2023-02-01 04:28:02      4169:78          0  \n",
       "3       2023-02-01 04:28:32 2023-02-01 04:28:50        78:84          0  \n",
       "4       2023-02-01 04:29:13 2023-02-01 04:29:27      84:1917          0  \n",
       "...                     ...                 ...          ...        ...  \n",
       "4244047 2023-02-26 00:39:19 2023-02-26 00:39:32    1926:1809          1  \n",
       "4244048 2023-02-26 00:39:49 2023-02-26 00:40:01    1809:9970          1  \n",
       "4244049 2023-02-26 00:41:40 2023-02-26 00:41:58    1488:1812          1  \n",
       "4244050 2023-02-26 00:42:34 2023-02-26 00:42:50   1812:60028          1  \n",
       "4244051 2023-02-26 00:43:09 2023-02-26 00:43:26  60028:61157          1  \n",
       "\n",
       "[4112040 rows x 8 columns]"
      ]
     },
     "execution_count": 58,
     "metadata": {},
     "output_type": "execute_result"
    }
   ],
   "source": [
    "data"
   ]
  },
  {
   "cell_type": "code",
   "execution_count": 59,
   "metadata": {
    "id": "BFjwAl6LHiV2"
   },
   "outputs": [],
   "source": [
    "data['d_date'] = (pd.to_datetime(data['actualDepartureTime']).dt.date).astype(str).str.strip()"
   ]
  },
  {
   "cell_type": "code",
   "execution_count": 60,
   "metadata": {
    "colab": {
     "base_uri": "https://localhost:8080/"
    },
    "id": "fzphS4YIDXbZ",
    "outputId": "833e1702-5def-4684-e725-91261053a4b3"
   },
   "outputs": [
    {
     "name": "stderr",
     "output_type": "stream",
     "text": [
      "C:\\Users\\aiah2\\AppData\\Local\\Temp\\ipykernel_10904\\1206210777.py:1: FutureWarning: Treating datetime data as categorical rather than numeric in `.describe` is deprecated and will be removed in a future version of pandas. Specify `datetime_is_numeric=True` to silence this warning and adopt the future behavior now.\n",
      "  data.actualDepartureTime.describe()\n"
     ]
    },
    {
     "data": {
      "text/plain": [
       "count                 4112040\n",
       "unique                1456031\n",
       "top       2023-02-05 17:08:11\n",
       "freq                       15\n",
       "first     2023-02-01 00:00:14\n",
       "last      2023-03-01 00:57:50\n",
       "Name: actualDepartureTime, dtype: object"
      ]
     },
     "execution_count": 60,
     "metadata": {},
     "output_type": "execute_result"
    }
   ],
   "source": [
    "data.actualDepartureTime.describe()"
   ]
  },
  {
   "cell_type": "code",
   "execution_count": 61,
   "metadata": {
    "colab": {
     "base_uri": "https://localhost:8080/"
    },
    "id": "ushqZqvuBJZD",
    "outputId": "007b0d75-4073-4115-e516-42b1569e35ae"
   },
   "outputs": [
    {
     "name": "stderr",
     "output_type": "stream",
     "text": [
      "C:\\Users\\aiah2\\AppData\\Local\\Temp\\ipykernel_10904\\3297506208.py:1: FutureWarning: Treating datetime data as categorical rather than numeric in `.describe` is deprecated and will be removed in a future version of pandas. Specify `datetime_is_numeric=True` to silence this warning and adopt the future behavior now.\n",
      "  data.actualArrivalTime.describe()\n"
     ]
    },
    {
     "data": {
      "text/plain": [
       "count                 4112040\n",
       "unique                1456123\n",
       "top       2023-02-09 09:36:02\n",
       "freq                       14\n",
       "first     2023-02-01 00:00:05\n",
       "last      2023-03-01 00:57:39\n",
       "Name: actualArrivalTime, dtype: object"
      ]
     },
     "execution_count": 61,
     "metadata": {},
     "output_type": "execute_result"
    }
   ],
   "source": [
    "data.actualArrivalTime.describe()"
   ]
  },
  {
   "cell_type": "code",
   "execution_count": 62,
   "metadata": {
    "colab": {
     "base_uri": "https://localhost:8080/",
     "height": 530
    },
    "id": "QVyGDGJG_jac",
    "outputId": "e27d34b2-abf8-4767-cbe0-3555f9c66cf5"
   },
   "outputs": [
    {
     "data": {
      "image/png": "[encoded data removed]",
      "text/plain": [
       "<Figure size 432x288 with 1 Axes>"
      ]
     },
     "metadata": {},
     "output_type": "display_data"
    }
   ],
   "source": [
    "counts = data['d_date'].value_counts().sort_index()\n",
    "\n",
    "fig, ax = plt.subplots()\n",
    "\n",
    "counts.plot(kind='bar', ax=ax, color=['deeppink' if x == counts.max() else 'blue' if x == counts.min() else 'mediumturquoise' for x in counts])\n",
    "\n",
    "plt.title('Trips Of February 2023')\n",
    "ax.set_ylabel('Counter')\n",
    "plt.xticks(rotation='vertical')\n",
    "plt.show()"
   ]
  },
  {
   "cell_type": "code",
   "execution_count": 63,
   "metadata": {
    "colab": {
     "base_uri": "https://localhost:8080/",
     "height": 1000
    },
    "id": "8oAuhYjjxBeJ",
    "outputId": "0b3828bf-030e-4d3e-a5b8-9cb6cf1aeb78"
   },
   "outputs": [
    {
     "data": {
      "text/html": [
       "<div>\n",
       "<style scoped>\n",
       "    .dataframe tbody tr th:only-of-type {\n",
       "        vertical-align: middle;\n",
       "    }\n",
       "\n",
       "    .dataframe tbody tr th {\n",
       "        vertical-align: top;\n",
       "    }\n",
       "\n",
       "    .dataframe thead th {\n",
       "        text-align: right;\n",
       "    }\n",
       "</style>\n",
       "<table border=\"1\" class=\"dataframe\">\n",
       "  <thead>\n",
       "    <tr style=\"text-align: right;\">\n",
       "      <th></th>\n",
       "      <th>TripId</th>\n",
       "      <th>LINE_SHORT_NAME</th>\n",
       "      <th>OriginAimedDepartureTime</th>\n",
       "      <th>stopOrder</th>\n",
       "      <th>actualArrivalTime</th>\n",
       "      <th>actualDepartureTime</th>\n",
       "      <th>Linkref</th>\n",
       "      <th>direction</th>\n",
       "      <th>d_date</th>\n",
       "    </tr>\n",
       "  </thead>\n",
       "  <tbody>\n",
       "    <tr>\n",
       "      <th>145887</th>\n",
       "      <td>1382429</td>\n",
       "      <td>102</td>\n",
       "      <td>2023-02-03 00:30:00</td>\n",
       "      <td>2</td>\n",
       "      <td>2023-02-03 00:31:53</td>\n",
       "      <td>2023-02-03 00:32:11</td>\n",
       "      <td>2721:2528</td>\n",
       "      <td>0</td>\n",
       "      <td>2023-02-03</td>\n",
       "    </tr>\n",
       "    <tr>\n",
       "      <th>145888</th>\n",
       "      <td>1382429</td>\n",
       "      <td>102</td>\n",
       "      <td>2023-02-03 00:30:00</td>\n",
       "      <td>3</td>\n",
       "      <td>2023-02-03 00:32:35</td>\n",
       "      <td>2023-02-03 00:32:49</td>\n",
       "      <td>2528:2339</td>\n",
       "      <td>0</td>\n",
       "      <td>2023-02-03</td>\n",
       "    </tr>\n",
       "    <tr>\n",
       "      <th>145889</th>\n",
       "      <td>1382429</td>\n",
       "      <td>102</td>\n",
       "      <td>2023-02-03 00:30:00</td>\n",
       "      <td>4</td>\n",
       "      <td>2023-02-03 00:33:14</td>\n",
       "      <td>2023-02-03 00:33:34</td>\n",
       "      <td>2339:2345</td>\n",
       "      <td>0</td>\n",
       "      <td>2023-02-03</td>\n",
       "    </tr>\n",
       "    <tr>\n",
       "      <th>145890</th>\n",
       "      <td>1382429</td>\n",
       "      <td>102</td>\n",
       "      <td>2023-02-03 00:30:00</td>\n",
       "      <td>7</td>\n",
       "      <td>2023-02-03 00:34:34</td>\n",
       "      <td>2023-02-03 00:34:53</td>\n",
       "      <td>2150:2152</td>\n",
       "      <td>0</td>\n",
       "      <td>2023-02-03</td>\n",
       "    </tr>\n",
       "    <tr>\n",
       "      <th>145891</th>\n",
       "      <td>1382429</td>\n",
       "      <td>102</td>\n",
       "      <td>2023-02-03 00:30:00</td>\n",
       "      <td>8</td>\n",
       "      <td>2023-02-03 00:35:09</td>\n",
       "      <td>2023-02-03 00:35:30</td>\n",
       "      <td>2152:2163</td>\n",
       "      <td>0</td>\n",
       "      <td>2023-02-03</td>\n",
       "    </tr>\n",
       "    <tr>\n",
       "      <th>145892</th>\n",
       "      <td>1382429</td>\n",
       "      <td>102</td>\n",
       "      <td>2023-02-03 00:30:00</td>\n",
       "      <td>11</td>\n",
       "      <td>2023-02-03 00:36:52</td>\n",
       "      <td>2023-02-03 00:37:08</td>\n",
       "      <td>2548:2160</td>\n",
       "      <td>0</td>\n",
       "      <td>2023-02-03</td>\n",
       "    </tr>\n",
       "    <tr>\n",
       "      <th>145893</th>\n",
       "      <td>1382429</td>\n",
       "      <td>102</td>\n",
       "      <td>2023-02-03 00:30:00</td>\n",
       "      <td>12</td>\n",
       "      <td>2023-02-03 00:37:15</td>\n",
       "      <td>2023-02-03 00:37:29</td>\n",
       "      <td>2160:2168</td>\n",
       "      <td>0</td>\n",
       "      <td>2023-02-03</td>\n",
       "    </tr>\n",
       "    <tr>\n",
       "      <th>145894</th>\n",
       "      <td>1382429</td>\n",
       "      <td>102</td>\n",
       "      <td>2023-02-03 00:30:00</td>\n",
       "      <td>13</td>\n",
       "      <td>2023-02-03 00:38:51</td>\n",
       "      <td>2023-02-03 00:39:05</td>\n",
       "      <td>2168:201</td>\n",
       "      <td>0</td>\n",
       "      <td>2023-02-03</td>\n",
       "    </tr>\n",
       "    <tr>\n",
       "      <th>145895</th>\n",
       "      <td>1382429</td>\n",
       "      <td>102</td>\n",
       "      <td>2023-02-03 00:30:00</td>\n",
       "      <td>14</td>\n",
       "      <td>2023-02-03 00:39:48</td>\n",
       "      <td>2023-02-03 00:40:07</td>\n",
       "      <td>201:2954</td>\n",
       "      <td>0</td>\n",
       "      <td>2023-02-03</td>\n",
       "    </tr>\n",
       "    <tr>\n",
       "      <th>145896</th>\n",
       "      <td>1382429</td>\n",
       "      <td>102</td>\n",
       "      <td>2023-02-03 00:30:00</td>\n",
       "      <td>15</td>\n",
       "      <td>2023-02-03 00:40:10</td>\n",
       "      <td>2023-02-03 00:40:28</td>\n",
       "      <td>2954:2955</td>\n",
       "      <td>0</td>\n",
       "      <td>2023-02-03</td>\n",
       "    </tr>\n",
       "    <tr>\n",
       "      <th>145897</th>\n",
       "      <td>1382429</td>\n",
       "      <td>102</td>\n",
       "      <td>2023-02-03 00:30:00</td>\n",
       "      <td>16</td>\n",
       "      <td>2023-02-03 00:40:51</td>\n",
       "      <td>2023-02-03 00:41:17</td>\n",
       "      <td>2955:6074</td>\n",
       "      <td>0</td>\n",
       "      <td>2023-02-03</td>\n",
       "    </tr>\n",
       "    <tr>\n",
       "      <th>145898</th>\n",
       "      <td>1382429</td>\n",
       "      <td>102</td>\n",
       "      <td>2023-02-03 00:30:00</td>\n",
       "      <td>17</td>\n",
       "      <td>2023-02-03 00:41:30</td>\n",
       "      <td>2023-02-03 00:41:51</td>\n",
       "      <td>6074:9905</td>\n",
       "      <td>0</td>\n",
       "      <td>2023-02-03</td>\n",
       "    </tr>\n",
       "    <tr>\n",
       "      <th>145899</th>\n",
       "      <td>1382429</td>\n",
       "      <td>102</td>\n",
       "      <td>2023-02-03 00:30:00</td>\n",
       "      <td>18</td>\n",
       "      <td>2023-02-03 00:42:06</td>\n",
       "      <td>2023-02-03 00:42:21</td>\n",
       "      <td>9905:2597</td>\n",
       "      <td>0</td>\n",
       "      <td>2023-02-03</td>\n",
       "    </tr>\n",
       "    <tr>\n",
       "      <th>145900</th>\n",
       "      <td>1382429</td>\n",
       "      <td>102</td>\n",
       "      <td>2023-02-03 00:30:00</td>\n",
       "      <td>19</td>\n",
       "      <td>2023-02-03 00:42:22</td>\n",
       "      <td>2023-02-03 00:43:48</td>\n",
       "      <td>2597:9817</td>\n",
       "      <td>0</td>\n",
       "      <td>2023-02-03</td>\n",
       "    </tr>\n",
       "    <tr>\n",
       "      <th>145901</th>\n",
       "      <td>1382429</td>\n",
       "      <td>102</td>\n",
       "      <td>2023-02-03 00:30:00</td>\n",
       "      <td>20</td>\n",
       "      <td>2023-02-03 00:45:57</td>\n",
       "      <td>2023-02-03 00:46:14</td>\n",
       "      <td>9817:510</td>\n",
       "      <td>0</td>\n",
       "      <td>2023-02-03</td>\n",
       "    </tr>\n",
       "    <tr>\n",
       "      <th>145902</th>\n",
       "      <td>1382429</td>\n",
       "      <td>102</td>\n",
       "      <td>2023-02-03 00:30:00</td>\n",
       "      <td>21</td>\n",
       "      <td>2023-02-03 00:50:41</td>\n",
       "      <td>2023-02-03 00:51:03</td>\n",
       "      <td>510:3299</td>\n",
       "      <td>0</td>\n",
       "      <td>2023-02-03</td>\n",
       "    </tr>\n",
       "    <tr>\n",
       "      <th>145903</th>\n",
       "      <td>1382429</td>\n",
       "      <td>102</td>\n",
       "      <td>2023-02-03 00:30:00</td>\n",
       "      <td>22</td>\n",
       "      <td>2023-02-03 00:51:06</td>\n",
       "      <td>2023-02-03 00:51:37</td>\n",
       "      <td>3299:3300</td>\n",
       "      <td>0</td>\n",
       "      <td>2023-02-03</td>\n",
       "    </tr>\n",
       "    <tr>\n",
       "      <th>145904</th>\n",
       "      <td>1382429</td>\n",
       "      <td>102</td>\n",
       "      <td>2023-02-03 00:30:00</td>\n",
       "      <td>23</td>\n",
       "      <td>2023-02-03 00:51:52</td>\n",
       "      <td>2023-02-03 00:52:09</td>\n",
       "      <td>3300:3301</td>\n",
       "      <td>0</td>\n",
       "      <td>2023-02-03</td>\n",
       "    </tr>\n",
       "    <tr>\n",
       "      <th>145905</th>\n",
       "      <td>1382429</td>\n",
       "      <td>102</td>\n",
       "      <td>2023-02-03 00:30:00</td>\n",
       "      <td>24</td>\n",
       "      <td>2023-02-03 00:52:45</td>\n",
       "      <td>2023-02-03 00:53:09</td>\n",
       "      <td>3301:5987</td>\n",
       "      <td>0</td>\n",
       "      <td>2023-02-03</td>\n",
       "    </tr>\n",
       "    <tr>\n",
       "      <th>145906</th>\n",
       "      <td>1382429</td>\n",
       "      <td>102</td>\n",
       "      <td>2023-02-03 00:30:00</td>\n",
       "      <td>25</td>\n",
       "      <td>2023-02-03 00:55:17</td>\n",
       "      <td>2023-02-03 00:55:38</td>\n",
       "      <td>5987:1255</td>\n",
       "      <td>0</td>\n",
       "      <td>2023-02-03</td>\n",
       "    </tr>\n",
       "    <tr>\n",
       "      <th>145907</th>\n",
       "      <td>1382429</td>\n",
       "      <td>102</td>\n",
       "      <td>2023-02-03 00:30:00</td>\n",
       "      <td>26</td>\n",
       "      <td>2023-02-03 00:56:14</td>\n",
       "      <td>2023-02-03 00:56:31</td>\n",
       "      <td>1255:1028</td>\n",
       "      <td>0</td>\n",
       "      <td>2023-02-03</td>\n",
       "    </tr>\n",
       "    <tr>\n",
       "      <th>145908</th>\n",
       "      <td>1382429</td>\n",
       "      <td>102</td>\n",
       "      <td>2023-02-03 00:30:00</td>\n",
       "      <td>27</td>\n",
       "      <td>2023-02-03 00:56:39</td>\n",
       "      <td>2023-02-03 00:57:07</td>\n",
       "      <td>1028:1856</td>\n",
       "      <td>0</td>\n",
       "      <td>2023-02-03</td>\n",
       "    </tr>\n",
       "    <tr>\n",
       "      <th>145909</th>\n",
       "      <td>1382429</td>\n",
       "      <td>102</td>\n",
       "      <td>2023-02-03 00:30:00</td>\n",
       "      <td>28</td>\n",
       "      <td>2023-02-03 00:57:48</td>\n",
       "      <td>2023-02-03 00:58:09</td>\n",
       "      <td>1856:1260</td>\n",
       "      <td>0</td>\n",
       "      <td>2023-02-03</td>\n",
       "    </tr>\n",
       "    <tr>\n",
       "      <th>145910</th>\n",
       "      <td>1382429</td>\n",
       "      <td>102</td>\n",
       "      <td>2023-02-03 00:30:00</td>\n",
       "      <td>33</td>\n",
       "      <td>2023-02-03 01:02:37</td>\n",
       "      <td>2023-02-03 01:02:53</td>\n",
       "      <td>1957:1098</td>\n",
       "      <td>0</td>\n",
       "      <td>2023-02-03</td>\n",
       "    </tr>\n",
       "    <tr>\n",
       "      <th>145911</th>\n",
       "      <td>1382429</td>\n",
       "      <td>102</td>\n",
       "      <td>2023-02-03 00:30:00</td>\n",
       "      <td>34</td>\n",
       "      <td>2023-02-03 01:06:24</td>\n",
       "      <td>2023-02-03 01:07:32</td>\n",
       "      <td>1098:3605</td>\n",
       "      <td>0</td>\n",
       "      <td>2023-02-03</td>\n",
       "    </tr>\n",
       "    <tr>\n",
       "      <th>145912</th>\n",
       "      <td>1382429</td>\n",
       "      <td>102</td>\n",
       "      <td>2023-02-03 00:30:00</td>\n",
       "      <td>35</td>\n",
       "      <td>2023-02-03 01:08:25</td>\n",
       "      <td>2023-02-03 01:10:06</td>\n",
       "      <td>3605:4173</td>\n",
       "      <td>0</td>\n",
       "      <td>2023-02-03</td>\n",
       "    </tr>\n",
       "    <tr>\n",
       "      <th>145913</th>\n",
       "      <td>1382429</td>\n",
       "      <td>102</td>\n",
       "      <td>2023-02-03 00:30:00</td>\n",
       "      <td>36</td>\n",
       "      <td>2023-02-03 01:13:58</td>\n",
       "      <td>2023-02-03 01:14:20</td>\n",
       "      <td>4173:3541</td>\n",
       "      <td>0</td>\n",
       "      <td>2023-02-03</td>\n",
       "    </tr>\n",
       "  </tbody>\n",
       "</table>\n",
       "</div>"
      ],
      "text/plain": [
       "         TripId LINE_SHORT_NAME OriginAimedDepartureTime  stopOrder  \\\n",
       "145887  1382429             102      2023-02-03 00:30:00          2   \n",
       "145888  1382429             102      2023-02-03 00:30:00          3   \n",
       "145889  1382429             102      2023-02-03 00:30:00          4   \n",
       "145890  1382429             102      2023-02-03 00:30:00          7   \n",
       "145891  1382429             102      2023-02-03 00:30:00          8   \n",
       "145892  1382429             102      2023-02-03 00:30:00         11   \n",
       "145893  1382429             102      2023-02-03 00:30:00         12   \n",
       "145894  1382429             102      2023-02-03 00:30:00         13   \n",
       "145895  1382429             102      2023-02-03 00:30:00         14   \n",
       "145896  1382429             102      2023-02-03 00:30:00         15   \n",
       "145897  1382429             102      2023-02-03 00:30:00         16   \n",
       "145898  1382429             102      2023-02-03 00:30:00         17   \n",
       "145899  1382429             102      2023-02-03 00:30:00         18   \n",
       "145900  1382429             102      2023-02-03 00:30:00         19   \n",
       "145901  1382429             102      2023-02-03 00:30:00         20   \n",
       "145902  1382429             102      2023-02-03 00:30:00         21   \n",
       "145903  1382429             102      2023-02-03 00:30:00         22   \n",
       "145904  1382429             102      2023-02-03 00:30:00         23   \n",
       "145905  1382429             102      2023-02-03 00:30:00         24   \n",
       "145906  1382429             102      2023-02-03 00:30:00         25   \n",
       "145907  1382429             102      2023-02-03 00:30:00         26   \n",
       "145908  1382429             102      2023-02-03 00:30:00         27   \n",
       "145909  1382429             102      2023-02-03 00:30:00         28   \n",
       "145910  1382429             102      2023-02-03 00:30:00         33   \n",
       "145911  1382429             102      2023-02-03 00:30:00         34   \n",
       "145912  1382429             102      2023-02-03 00:30:00         35   \n",
       "145913  1382429             102      2023-02-03 00:30:00         36   \n",
       "\n",
       "         actualArrivalTime actualDepartureTime    Linkref  direction  \\\n",
       "145887 2023-02-03 00:31:53 2023-02-03 00:32:11  2721:2528          0   \n",
       "145888 2023-02-03 00:32:35 2023-02-03 00:32:49  2528:2339          0   \n",
       "145889 2023-02-03 00:33:14 2023-02-03 00:33:34  2339:2345          0   \n",
       "145890 2023-02-03 00:34:34 2023-02-03 00:34:53  2150:2152          0   \n",
       "145891 2023-02-03 00:35:09 2023-02-03 00:35:30  2152:2163          0   \n",
       "145892 2023-02-03 00:36:52 2023-02-03 00:37:08  2548:2160          0   \n",
       "145893 2023-02-03 00:37:15 2023-02-03 00:37:29  2160:2168          0   \n",
       "145894 2023-02-03 00:38:51 2023-02-03 00:39:05   2168:201          0   \n",
       "145895 2023-02-03 00:39:48 2023-02-03 00:40:07   201:2954          0   \n",
       "145896 2023-02-03 00:40:10 2023-02-03 00:40:28  2954:2955          0   \n",
       "145897 2023-02-03 00:40:51 2023-02-03 00:41:17  2955:6074          0   \n",
       "145898 2023-02-03 00:41:30 2023-02-03 00:41:51  6074:9905          0   \n",
       "145899 2023-02-03 00:42:06 2023-02-03 00:42:21  9905:2597          0   \n",
       "145900 2023-02-03 00:42:22 2023-02-03 00:43:48  2597:9817          0   \n",
       "145901 2023-02-03 00:45:57 2023-02-03 00:46:14   9817:510          0   \n",
       "145902 2023-02-03 00:50:41 2023-02-03 00:51:03   510:3299          0   \n",
       "145903 2023-02-03 00:51:06 2023-02-03 00:51:37  3299:3300          0   \n",
       "145904 2023-02-03 00:51:52 2023-02-03 00:52:09  3300:3301          0   \n",
       "145905 2023-02-03 00:52:45 2023-02-03 00:53:09  3301:5987          0   \n",
       "145906 2023-02-03 00:55:17 2023-02-03 00:55:38  5987:1255          0   \n",
       "145907 2023-02-03 00:56:14 2023-02-03 00:56:31  1255:1028          0   \n",
       "145908 2023-02-03 00:56:39 2023-02-03 00:57:07  1028:1856          0   \n",
       "145909 2023-02-03 00:57:48 2023-02-03 00:58:09  1856:1260          0   \n",
       "145910 2023-02-03 01:02:37 2023-02-03 01:02:53  1957:1098          0   \n",
       "145911 2023-02-03 01:06:24 2023-02-03 01:07:32  1098:3605          0   \n",
       "145912 2023-02-03 01:08:25 2023-02-03 01:10:06  3605:4173          0   \n",
       "145913 2023-02-03 01:13:58 2023-02-03 01:14:20  4173:3541          0   \n",
       "\n",
       "            d_date  \n",
       "145887  2023-02-03  \n",
       "145888  2023-02-03  \n",
       "145889  2023-02-03  \n",
       "145890  2023-02-03  \n",
       "145891  2023-02-03  \n",
       "145892  2023-02-03  \n",
       "145893  2023-02-03  \n",
       "145894  2023-02-03  \n",
       "145895  2023-02-03  \n",
       "145896  2023-02-03  \n",
       "145897  2023-02-03  \n",
       "145898  2023-02-03  \n",
       "145899  2023-02-03  \n",
       "145900  2023-02-03  \n",
       "145901  2023-02-03  \n",
       "145902  2023-02-03  \n",
       "145903  2023-02-03  \n",
       "145904  2023-02-03  \n",
       "145905  2023-02-03  \n",
       "145906  2023-02-03  \n",
       "145907  2023-02-03  \n",
       "145908  2023-02-03  \n",
       "145909  2023-02-03  \n",
       "145910  2023-02-03  \n",
       "145911  2023-02-03  \n",
       "145912  2023-02-03  \n",
       "145913  2023-02-03  "
      ]
     },
     "execution_count": 63,
     "metadata": {},
     "output_type": "execute_result"
    }
   ],
   "source": [
    "data[(data.TripId == 1382429) & (data.d_date == '2023-02-03')]"
   ]
  },
  {
   "cell_type": "code",
   "execution_count": 39,
   "metadata": {
    "colab": {
     "base_uri": "https://localhost:8080/"
    },
    "id": "mCsv4DVVdPSx",
    "outputId": "e84151ae-9a8a-4058-a22e-5c6e53158ee8"
   },
   "outputs": [
    {
     "data": {
      "text/plain": [
       "Index(['TripId', 'LINE_SHORT_NAME', 'OriginAimedDepartureTime', 'stopOrder',\n",
       "       'actualArrivalTime', 'actualDepartureTime', 'Linkref', 'direction',\n",
       "       'd_date', 'pre_dt', 'pre_dt2', 'stopCode', 'nextStopCode', 'i'],\n",
       "      dtype='object')"
      ]
     },
     "execution_count": 39,
     "metadata": {},
     "output_type": "execute_result"
    }
   ],
   "source": [
    "data.columns"
   ]
  },
  {
   "cell_type": "code",
   "execution_count": 29,
   "metadata": {
    "id": "byLP6ipAxvMl"
   },
   "outputs": [],
   "source": [
    "def encodeDatetime(date_time):\n",
    "  return time.mktime(datetime.strptime(date_time, '%Y-%m-%d %H:%M:%S').timetuple())"
   ]
  },
  {
   "cell_type": "code",
   "execution_count": 30,
   "metadata": {
    "colab": {
     "base_uri": "https://localhost:8080/"
    },
    "id": "1ltI5nf1lzhJ",
    "outputId": "86a218a1-e755-4366-9927-27ca353c4a62"
   },
   "outputs": [],
   "source": [
    "data['target_time'] = data['actualArrivalTime'].astype(str).str.strip()\n",
    "data['depTime'] = data['actualDepartureTime'].astype(str).str.strip()"
   ]
  },
  {
   "cell_type": "code",
   "execution_count": 31,
   "metadata": {
    "colab": {
     "base_uri": "https://localhost:8080/"
    },
    "id": "P2B4GeV6SzTt",
    "outputId": "be3408f0-181d-4158-e41f-59e5bf975806"
   },
   "outputs": [],
   "source": [
    "data['target_time'] = data['target_time'].apply(encodeDatetime)\n",
    "data['depTime'] = data['depTime'].apply(encodeDatetime)"
   ]
  },
  {
   "cell_type": "code",
   "execution_count": 65,
   "metadata": {},
   "outputs": [
    {
     "data": {
      "text/plain": [
       "35336"
      ]
     },
     "execution_count": 65,
     "metadata": {},
     "output_type": "execute_result"
    }
   ],
   "source": [
    "len(data.TripId.unique())"
   ]
  },
  {
   "cell_type": "code",
   "execution_count": 66,
   "metadata": {},
   "outputs": [
    {
     "data": {
      "text/plain": [
       "array([        0,   1361126,   1361132, ..., 585070643, 585070644,\n",
       "       585070645], dtype=int64)"
      ]
     },
     "execution_count": 66,
     "metadata": {},
     "output_type": "execute_result"
    }
   ],
   "source": [
    "data.TripId.unique()"
   ]
  },
  {
   "cell_type": "code",
   "execution_count": 67,
   "metadata": {},
   "outputs": [],
   "source": [
    "data = data.sort_values(['TripId', 'd_date', 'stopOrder']).reset_index(drop=True)"
   ]
  },
  {
   "cell_type": "code",
   "execution_count": 17,
   "metadata": {},
   "outputs": [
    {
     "data": {
      "text/plain": [
       "array([ 2,  3,  4,  5,  6,  7,  8,  9, 10, 13, 14, 15, 16, 17, 18, 19, 20,\n",
       "       21, 22, 23, 24, 25, 26, 27, 28, 29, 30, 31, 11, 12, 32],\n",
       "      dtype=int64)"
      ]
     },
     "execution_count": 17,
     "metadata": {},
     "output_type": "execute_result"
    }
   ],
   "source": [
    "data[data.TripId == 11863402].stopOrder.unique()"
   ]
  },
  {
   "cell_type": "code",
   "execution_count": 75,
   "metadata": {},
   "outputs": [],
   "source": [
    "def shiftLevel(group):\n",
    "    group['pre_dt2'] = group['actualDepartureTime'].shift(2)\n",
    "    return group"
   ]
  },
  {
   "cell_type": "code",
   "execution_count": 76,
   "metadata": {},
   "outputs": [
    {
     "name": "stderr",
     "output_type": "stream",
     "text": [
      "C:\\Users\\aiah2\\AppData\\Local\\Temp\\ipykernel_10904\\1248128172.py:2: FutureWarning: Not prepending group keys to the result index of transform-like apply. In the future, the group keys will be included in the index, regardless of whether the applied function returns a like-indexed object.\n",
      "To preserve the previous behavior, use\n",
      "\n",
      "\t>>> .groupby(..., group_keys=False)\n",
      "\n",
      "To adopt the future behavior and silence this warning, use \n",
      "\n",
      "\t>>> .groupby(..., group_keys=True)\n",
      "  data = data.groupby(['TripId', 'd_date']).apply(shiftLevel)\n"
     ]
    }
   ],
   "source": [
    "# Apply the function to each group\n",
    "data = data.groupby(['TripId', 'd_date']).apply(shiftLevel)"
   ]
  },
  {
   "cell_type": "code",
   "execution_count": 78,
   "metadata": {},
   "outputs": [
    {
     "data": {
      "text/html": [
       "<div>\n",
       "<style scoped>\n",
       "    .dataframe tbody tr th:only-of-type {\n",
       "        vertical-align: middle;\n",
       "    }\n",
       "\n",
       "    .dataframe tbody tr th {\n",
       "        vertical-align: top;\n",
       "    }\n",
       "\n",
       "    .dataframe thead th {\n",
       "        text-align: right;\n",
       "    }\n",
       "</style>\n",
       "<table border=\"1\" class=\"dataframe\">\n",
       "  <thead>\n",
       "    <tr style=\"text-align: right;\">\n",
       "      <th></th>\n",
       "      <th>TripId</th>\n",
       "      <th>LINE_SHORT_NAME</th>\n",
       "      <th>OriginAimedDepartureTime</th>\n",
       "      <th>stopOrder</th>\n",
       "      <th>actualArrivalTime</th>\n",
       "      <th>actualDepartureTime</th>\n",
       "      <th>Linkref</th>\n",
       "      <th>direction</th>\n",
       "      <th>d_date</th>\n",
       "      <th>pre_dt</th>\n",
       "      <th>pre_dt2</th>\n",
       "    </tr>\n",
       "  </thead>\n",
       "  <tbody>\n",
       "    <tr>\n",
       "      <th>0</th>\n",
       "      <td>0</td>\n",
       "      <td>3</td>\n",
       "      <td>2023-02-01 05:22:00</td>\n",
       "      <td>2</td>\n",
       "      <td>2023-02-01 05:30:00</td>\n",
       "      <td>2023-02-01 05:30:34</td>\n",
       "      <td>3375:1141</td>\n",
       "      <td>0</td>\n",
       "      <td>2023-02-01</td>\n",
       "      <td>NaT</td>\n",
       "      <td>NaT</td>\n",
       "    </tr>\n",
       "    <tr>\n",
       "      <th>1</th>\n",
       "      <td>0</td>\n",
       "      <td>34</td>\n",
       "      <td>2023-02-01 05:42:00</td>\n",
       "      <td>2</td>\n",
       "      <td>2023-02-01 05:42:09</td>\n",
       "      <td>2023-02-01 05:42:21</td>\n",
       "      <td>3300:3301</td>\n",
       "      <td>1</td>\n",
       "      <td>2023-02-01</td>\n",
       "      <td>2023-02-01 05:30:34</td>\n",
       "      <td>NaT</td>\n",
       "    </tr>\n",
       "    <tr>\n",
       "      <th>2</th>\n",
       "      <td>0</td>\n",
       "      <td>15</td>\n",
       "      <td>2023-02-01 05:45:00</td>\n",
       "      <td>2</td>\n",
       "      <td>2023-02-01 05:45:03</td>\n",
       "      <td>2023-02-01 05:45:20</td>\n",
       "      <td>3300:3301</td>\n",
       "      <td>1</td>\n",
       "      <td>2023-02-01</td>\n",
       "      <td>2023-02-01 05:42:21</td>\n",
       "      <td>2023-02-01 05:30:34</td>\n",
       "    </tr>\n",
       "    <tr>\n",
       "      <th>3</th>\n",
       "      <td>0</td>\n",
       "      <td>66</td>\n",
       "      <td>2023-02-01 05:52:00</td>\n",
       "      <td>2</td>\n",
       "      <td>2023-02-01 05:53:48</td>\n",
       "      <td>2023-02-01 05:54:01</td>\n",
       "      <td>1836:5882</td>\n",
       "      <td>1</td>\n",
       "      <td>2023-02-01</td>\n",
       "      <td>2023-02-01 05:45:20</td>\n",
       "      <td>2023-02-01 05:42:21</td>\n",
       "    </tr>\n",
       "    <tr>\n",
       "      <th>4</th>\n",
       "      <td>0</td>\n",
       "      <td>39</td>\n",
       "      <td>2023-02-01 06:03:00</td>\n",
       "      <td>2</td>\n",
       "      <td>2023-02-01 06:05:03</td>\n",
       "      <td>2023-02-01 06:05:19</td>\n",
       "      <td>1819:2072</td>\n",
       "      <td>0</td>\n",
       "      <td>2023-02-01</td>\n",
       "      <td>2023-02-01 05:54:01</td>\n",
       "      <td>2023-02-01 05:45:20</td>\n",
       "    </tr>\n",
       "    <tr>\n",
       "      <th>...</th>\n",
       "      <td>...</td>\n",
       "      <td>...</td>\n",
       "      <td>...</td>\n",
       "      <td>...</td>\n",
       "      <td>...</td>\n",
       "      <td>...</td>\n",
       "      <td>...</td>\n",
       "      <td>...</td>\n",
       "      <td>...</td>\n",
       "      <td>...</td>\n",
       "      <td>...</td>\n",
       "    </tr>\n",
       "    <tr>\n",
       "      <th>4112035</th>\n",
       "      <td>585070645</td>\n",
       "      <td>49</td>\n",
       "      <td>2023-02-26 00:00:00</td>\n",
       "      <td>36</td>\n",
       "      <td>2023-02-26 00:39:19</td>\n",
       "      <td>2023-02-26 00:39:32</td>\n",
       "      <td>1926:1809</td>\n",
       "      <td>1</td>\n",
       "      <td>2023-02-26</td>\n",
       "      <td>2023-02-26 00:38:57</td>\n",
       "      <td>2023-02-26 00:38:37</td>\n",
       "    </tr>\n",
       "    <tr>\n",
       "      <th>4112036</th>\n",
       "      <td>585070645</td>\n",
       "      <td>49</td>\n",
       "      <td>2023-02-26 00:00:00</td>\n",
       "      <td>37</td>\n",
       "      <td>2023-02-26 00:39:49</td>\n",
       "      <td>2023-02-26 00:40:01</td>\n",
       "      <td>1809:9970</td>\n",
       "      <td>1</td>\n",
       "      <td>2023-02-26</td>\n",
       "      <td>2023-02-26 00:39:32</td>\n",
       "      <td>2023-02-26 00:38:57</td>\n",
       "    </tr>\n",
       "    <tr>\n",
       "      <th>4112037</th>\n",
       "      <td>585070645</td>\n",
       "      <td>49</td>\n",
       "      <td>2023-02-26 00:00:00</td>\n",
       "      <td>42</td>\n",
       "      <td>2023-02-26 00:41:40</td>\n",
       "      <td>2023-02-26 00:41:58</td>\n",
       "      <td>1488:1812</td>\n",
       "      <td>1</td>\n",
       "      <td>2023-02-26</td>\n",
       "      <td>2023-02-26 00:40:01</td>\n",
       "      <td>2023-02-26 00:39:32</td>\n",
       "    </tr>\n",
       "    <tr>\n",
       "      <th>4112038</th>\n",
       "      <td>585070645</td>\n",
       "      <td>49</td>\n",
       "      <td>2023-02-26 00:00:00</td>\n",
       "      <td>43</td>\n",
       "      <td>2023-02-26 00:42:34</td>\n",
       "      <td>2023-02-26 00:42:50</td>\n",
       "      <td>1812:60028</td>\n",
       "      <td>1</td>\n",
       "      <td>2023-02-26</td>\n",
       "      <td>2023-02-26 00:41:58</td>\n",
       "      <td>2023-02-26 00:40:01</td>\n",
       "    </tr>\n",
       "    <tr>\n",
       "      <th>4112039</th>\n",
       "      <td>585070645</td>\n",
       "      <td>49</td>\n",
       "      <td>2023-02-26 00:00:00</td>\n",
       "      <td>44</td>\n",
       "      <td>2023-02-26 00:43:09</td>\n",
       "      <td>2023-02-26 00:43:26</td>\n",
       "      <td>60028:61157</td>\n",
       "      <td>1</td>\n",
       "      <td>2023-02-26</td>\n",
       "      <td>2023-02-26 00:42:50</td>\n",
       "      <td>2023-02-26 00:41:58</td>\n",
       "    </tr>\n",
       "  </tbody>\n",
       "</table>\n",
       "<p>4112040 rows × 11 columns</p>\n",
       "</div>"
      ],
      "text/plain": [
       "            TripId LINE_SHORT_NAME OriginAimedDepartureTime  stopOrder  \\\n",
       "0                0               3      2023-02-01 05:22:00          2   \n",
       "1                0              34      2023-02-01 05:42:00          2   \n",
       "2                0              15      2023-02-01 05:45:00          2   \n",
       "3                0              66      2023-02-01 05:52:00          2   \n",
       "4                0              39      2023-02-01 06:03:00          2   \n",
       "...            ...             ...                      ...        ...   \n",
       "4112035  585070645              49      2023-02-26 00:00:00         36   \n",
       "4112036  585070645              49      2023-02-26 00:00:00         37   \n",
       "4112037  585070645              49      2023-02-26 00:00:00         42   \n",
       "4112038  585070645              49      2023-02-26 00:00:00         43   \n",
       "4112039  585070645              49      2023-02-26 00:00:00         44   \n",
       "\n",
       "          actualArrivalTime actualDepartureTime      Linkref  direction  \\\n",
       "0       2023-02-01 05:30:00 2023-02-01 05:30:34    3375:1141          0   \n",
       "1       2023-02-01 05:42:09 2023-02-01 05:42:21    3300:3301          1   \n",
       "2       2023-02-01 05:45:03 2023-02-01 05:45:20    3300:3301          1   \n",
       "3       2023-02-01 05:53:48 2023-02-01 05:54:01    1836:5882          1   \n",
       "4       2023-02-01 06:05:03 2023-02-01 06:05:19    1819:2072          0   \n",
       "...                     ...                 ...          ...        ...   \n",
       "4112035 2023-02-26 00:39:19 2023-02-26 00:39:32    1926:1809          1   \n",
       "4112036 2023-02-26 00:39:49 2023-02-26 00:40:01    1809:9970          1   \n",
       "4112037 2023-02-26 00:41:40 2023-02-26 00:41:58    1488:1812          1   \n",
       "4112038 2023-02-26 00:42:34 2023-02-26 00:42:50   1812:60028          1   \n",
       "4112039 2023-02-26 00:43:09 2023-02-26 00:43:26  60028:61157          1   \n",
       "\n",
       "             d_date              pre_dt             pre_dt2  \n",
       "0        2023-02-01                 NaT                 NaT  \n",
       "1        2023-02-01 2023-02-01 05:30:34                 NaT  \n",
       "2        2023-02-01 2023-02-01 05:42:21 2023-02-01 05:30:34  \n",
       "3        2023-02-01 2023-02-01 05:45:20 2023-02-01 05:42:21  \n",
       "4        2023-02-01 2023-02-01 05:54:01 2023-02-01 05:45:20  \n",
       "...             ...                 ...                 ...  \n",
       "4112035  2023-02-26 2023-02-26 00:38:57 2023-02-26 00:38:37  \n",
       "4112036  2023-02-26 2023-02-26 00:39:32 2023-02-26 00:38:57  \n",
       "4112037  2023-02-26 2023-02-26 00:40:01 2023-02-26 00:39:32  \n",
       "4112038  2023-02-26 2023-02-26 00:41:58 2023-02-26 00:40:01  \n",
       "4112039  2023-02-26 2023-02-26 00:42:50 2023-02-26 00:41:58  \n",
       "\n",
       "[4112040 rows x 11 columns]"
      ]
     },
     "execution_count": 78,
     "metadata": {},
     "output_type": "execute_result"
    }
   ],
   "source": [
    "data"
   ]
  },
  {
   "cell_type": "code",
   "execution_count": 79,
   "metadata": {},
   "outputs": [
    {
     "data": {
      "text/plain": [
       "(4112040, 11)"
      ]
     },
     "execution_count": 79,
     "metadata": {},
     "output_type": "execute_result"
    }
   ],
   "source": [
    "data.shape"
   ]
  },
  {
   "cell_type": "code",
   "execution_count": 80,
   "metadata": {},
   "outputs": [
    {
     "data": {
      "text/plain": [
       "TripId                               int64\n",
       "LINE_SHORT_NAME                     object\n",
       "OriginAimedDepartureTime    datetime64[ns]\n",
       "stopOrder                            int64\n",
       "actualArrivalTime           datetime64[ns]\n",
       "actualDepartureTime         datetime64[ns]\n",
       "Linkref                             object\n",
       "direction                            int64\n",
       "d_date                              object\n",
       "pre_dt                      datetime64[ns]\n",
       "pre_dt2                     datetime64[ns]\n",
       "dtype: object"
      ]
     },
     "execution_count": 80,
     "metadata": {},
     "output_type": "execute_result"
    }
   ],
   "source": [
    "data.dtypes"
   ]
  },
  {
   "cell_type": "code",
   "execution_count": 81,
   "metadata": {
    "id": "qCefIYnvTRqZ"
   },
   "outputs": [],
   "source": [
    "data.to_pickle(\"vm_data.pkl\")"
   ]
  },
  {
   "cell_type": "code",
   "execution_count": null,
   "metadata": {},
   "outputs": [],
   "source": []
  }
 ],
 "metadata": {
  "accelerator": "GPU",
  "colab": {
   "gpuType": "T4",
   "provenance": []
  },
  "kernelspec": {
   "display_name": "Python 3 (ipykernel)",
   "language": "python",
   "name": "python3"
  },
  "language_info": {
   "codemirror_mode": {
    "name": "ipython",
    "version": 3
   },
   "file_extension": ".py",
   "mimetype": "text/x-python",
   "name": "python",
   "nbconvert_exporter": "python",
   "pygments_lexer": "ipython3",
   "version": "3.10.4"
  }
 },
 "nbformat": 4,
 "nbformat_minor": 1
}
