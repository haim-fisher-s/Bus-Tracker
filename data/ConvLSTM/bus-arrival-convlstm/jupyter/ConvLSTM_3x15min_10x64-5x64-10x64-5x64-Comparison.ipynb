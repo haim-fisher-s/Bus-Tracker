{
 "cells": [
  {
   "cell_type": "code",
   "execution_count": 1,
   "metadata": {
    "collapsed": false,
    "deletable": true,
    "editable": true
   },
   "outputs": [
    {
     "name": "stderr",
     "output_type": "stream",
     "text": [
      "Using TensorFlow backend.\n"
     ]
    },
    {
     "name": "stdout",
     "output_type": "stream",
     "text": [
      "numpy ver.: 1.13.1\n",
      "pandas ver.: 0.19.0\n",
      "tensorflow ver.: 1.0.0\n",
      "keras ver.: 2.0.8\n"
     ]
    }
   ],
   "source": [
    "import time\n",
    "import datetime\n",
    "\n",
    "import numpy as np\n",
    "import pandas as pd\n",
    "import tensorflow as tf\n",
    "\n",
    "import keras\n",
    "from keras.models import Sequential\n",
    "from keras.layers import *\n",
    "from keras.layers.wrappers import *\n",
    "from keras.optimizers import RMSprop\n",
    "from keras.callbacks import CSVLogger, EarlyStopping\n",
    "import keras.backend.tensorflow_backend as ktf\n",
    "\n",
    "import matplotlib.pyplot as plt\n",
    "\n",
    "from common import *\n",
    "\n",
    "plt.style.use('ggplot')\n",
    "%matplotlib inline\n",
    "plt.rcParams['axes.facecolor'] = 'w'\n",
    "plt.rcParams['axes.labelcolor'] = 'k'\n",
    "plt.rcParams['axes.edgecolor'] = 'k'\n",
    "plt.rcParams['ytick.color'] = 'k'\n",
    "plt.rcParams['xtick.color'] = 'k'\n",
    "plt.rcParams['grid.color'] = (.7, .7, .7, 0)\n",
    "plt.rcParams['figure.figsize'] = (16, 10)\n",
    "\n",
    "print('numpy ver.: ' + np.__version__)\n",
    "print('pandas ver.: ' + pd.__version__)\n",
    "print('tensorflow ver.: ' + tf.__version__) \n",
    "print('keras ver.: ' + keras.__version__)"
   ]
  },
  {
   "cell_type": "code",
   "execution_count": 2,
   "metadata": {
    "collapsed": true,
    "deletable": true,
    "editable": true
   },
   "outputs": [],
   "source": [
    "def get_session(gpu_fraction=1):\n",
    "    gpu_options = tf.GPUOptions(per_process_gpu_memory_fraction=gpu_fraction,\n",
    "                                allow_growth=True)\n",
    "    return tf.Session(config=tf.ConfigProto(gpu_options=gpu_options))\n",
    "\n",
    "ktf.set_session(get_session())"
   ]
  },
  {
   "cell_type": "markdown",
   "metadata": {
    "deletable": true,
    "editable": true
   },
   "source": [
    "## Functions"
   ]
  },
  {
   "cell_type": "markdown",
   "metadata": {
    "deletable": true,
    "editable": true
   },
   "source": [
    "### Functions for generate data"
   ]
  },
  {
   "cell_type": "code",
   "execution_count": 3,
   "metadata": {
    "collapsed": false,
    "deletable": true,
    "editable": true
   },
   "outputs": [],
   "source": [
    "def build_model(input_timesteps, output_timesteps, num_links):\n",
    "    model = Sequential()\n",
    "    model.add(BatchNormalization(name = 'batch_norm_0', input_shape = (input_timesteps, num_links, 1, 1)))\n",
    "    model.add(ConvLSTM2D(name ='conv_lstm_1',\n",
    "                         filters = 64, kernel_size = (10, 1),                       \n",
    "                         padding = 'same', \n",
    "                         return_sequences = True))\n",
    "    \n",
    "    model.add(Dropout(0.21, name = 'dropout_1'))\n",
    "    model.add(BatchNormalization(name = 'batch_norm_1'))\n",
    "\n",
    "    model.add(ConvLSTM2D(name ='conv_lstm_2',\n",
    "                         filters = 64, kernel_size = (5, 1), \n",
    "                         padding='same',\n",
    "                         return_sequences = False))\n",
    "    \n",
    "    model.add(Dropout(0.20, name = 'dropout_2'))\n",
    "    model.add(BatchNormalization(name = 'batch_norm_2'))\n",
    "    \n",
    "    model.add(Flatten())\n",
    "    model.add(RepeatVector(output_timesteps))\n",
    "    model.add(Reshape((output_timesteps, num_links, 1, 64)))\n",
    "    \n",
    "    model.add(ConvLSTM2D(name ='conv_lstm_3',\n",
    "                         filters = 64, kernel_size = (10, 1), \n",
    "                         padding='same',\n",
    "                         return_sequences = True))\n",
    "    \n",
    "    model.add(Dropout(0.20, name = 'dropout_3'))\n",
    "    model.add(BatchNormalization(name = 'batch_norm_3'))\n",
    "    \n",
    "    model.add(ConvLSTM2D(name ='conv_lstm_4',\n",
    "                         filters = 64, kernel_size = (5, 1), \n",
    "                         padding='same',\n",
    "                         return_sequences = True))\n",
    "    \n",
    "    model.add(TimeDistributed(Dense(units=1, name = 'dense_1', activation = 'relu')))\n",
    "    #model.add(Dense(units=1, name = 'dense_2'))\n",
    "\n",
    "    optimizer = RMSprop() #lr=0.0001, rho=0.9, epsilon=1e-08, decay=0.9)\n",
    "    model.compile(loss = \"mse\", optimizer = optimizer)\n",
    "    return model"
   ]
  },
  {
   "cell_type": "code",
   "execution_count": 4,
   "metadata": {
    "collapsed": true,
    "deletable": true,
    "editable": true
   },
   "outputs": [],
   "source": [
    "def info(msg):\n",
    "    print(datetime.datetime.now().strftime('%Y-%m-%d %H:%M:%S') + \" \" + msg)"
   ]
  },
  {
   "cell_type": "markdown",
   "metadata": {
    "deletable": true,
    "editable": true
   },
   "source": [
    "## Load data"
   ]
  },
  {
   "cell_type": "code",
   "execution_count": 5,
   "metadata": {
    "collapsed": false,
    "deletable": true,
    "editable": true
   },
   "outputs": [
    {
     "name": "stdout",
     "output_type": "stream",
     "text": [
      "1213677\n"
     ]
    }
   ],
   "source": [
    "data = prep_data('../data/4A_1_201705_201710.csv')\n",
    "print(len(data))"
   ]
  },
  {
   "cell_type": "markdown",
   "metadata": {
    "deletable": true,
    "editable": true
   },
   "source": [
    "Subset the part of the 4A line that are identical across all journey patterns."
   ]
  },
  {
   "cell_type": "code",
   "execution_count": 6,
   "metadata": {
    "collapsed": false,
    "deletable": true,
    "editable": true
   },
   "outputs": [
    {
     "name": "stdout",
     "output_type": "stream",
     "text": [
      "907390\n"
     ]
    }
   ],
   "source": [
    "data = data[(1 <= data['LineDirectionLinkOrder']) & (data['LineDirectionLinkOrder'] <= 32)]\n",
    "data = data[data['LinkTravelTime'].notnull()]\n",
    "assert len(data['LinkRef'].unique()) == 32\n",
    "n = len(data)\n",
    "print(n)"
   ]
  },
  {
   "cell_type": "code",
   "execution_count": 7,
   "metadata": {
    "collapsed": true,
    "deletable": true,
    "editable": true
   },
   "outputs": [],
   "source": [
    "lags = 4 * 8\n",
    "preds = 3"
   ]
  },
  {
   "cell_type": "markdown",
   "metadata": {
    "deletable": true,
    "editable": true
   },
   "source": [
    "## Train and test"
   ]
  },
  {
   "cell_type": "code",
   "execution_count": 8,
   "metadata": {
    "collapsed": false,
    "deletable": true,
    "editable": true
   },
   "outputs": [
    {
     "name": "stdout",
     "output_type": "stream",
     "text": [
      "2017-11-02 14:29:09 - Train size :   873720 (96.29%) \n",
      "2017-11-02 14:29:09 - Test size  :    33670 (3.71%) \n"
     ]
    }
   ],
   "source": [
    "# Devide into test and train\n",
    "data_train = data[data['DateTime'] < '2017-10-10']\n",
    "data_test = data['2017-10-10' <= data['DateTime']]\n",
    "n_train = len(data_train)\n",
    "n_test = len(data_test)\n",
    "info('- Train size : {:>8} ({:.2f}%) '.format(n_train, 100. * n_train / n))\n",
    "info('- Test size  : {:>8} ({:.2f}%) '.format(n_test, 100. * n_test / n))"
   ]
  },
  {
   "cell_type": "code",
   "execution_count": 9,
   "metadata": {
    "collapsed": true,
    "deletable": true,
    "editable": true
   },
   "outputs": [],
   "source": [
    "# Mean center and scale\n",
    "(means, scales, low, upr) = fit_scale(data_train)\n",
    "assert means.shape == (4 * 24 * 7, 32)\n",
    "assert len(scales) == 32\n",
    "assert low.shape == (4 * 24 * 7, 32)\n",
    "assert upr.shape == (4 * 24 * 7, 32)"
   ]
  },
  {
   "cell_type": "code",
   "execution_count": 10,
   "metadata": {
    "collapsed": true,
    "deletable": true,
    "editable": true
   },
   "outputs": [],
   "source": [
    "data_train_no = data_train\n",
    "data_test_no = data_test"
   ]
  },
  {
   "cell_type": "code",
   "execution_count": 11,
   "metadata": {
    "collapsed": false,
    "deletable": true,
    "editable": true
   },
   "outputs": [
    {
     "name": "stdout",
     "output_type": "stream",
     "text": [
      "2017-11-02 14:29:13 - X_train shape : (15512, 32, 32, 1, 1)    X_test shape :  (544, 32, 32, 1, 1)\n",
      "2017-11-02 14:29:13 - Y_train shape : (15512, 3, 32, 1, 1)    Y_test shape :   (544, 3, 32, 1, 1)\n"
     ]
    }
   ],
   "source": [
    "ix_train, ts_train, rm_mean_train, rm_scale_train, w_train, lns_train = transform(data_train_no, means, scales)\n",
    "ix_test, ts_test, rm_mean_test, rm_scale_test, w_test, lns_test = transform(data_test_no, means, scales)\n",
    "\n",
    "# Create rolling window tensor\n",
    "X_train, Y_train, Y_ix_train, Y_rm_mean_train, Y_scale_train, Y_w_train = roll(ix_train, ts_train, rm_mean_train, rm_scale_train, w_train, lags, preds)\n",
    "X_test, Y_test, Y_ix_test, Y_rm_mean_test, Y_scale_test, Y_w_test = roll(ix_test, ts_test, rm_mean_test, rm_scale_test, w_test, lags, preds)\n",
    "\n",
    "X_train = X_train[:,:,:,np.newaxis,np.newaxis]\n",
    "Y_train = Y_train[:,:,:,np.newaxis,np.newaxis]\n",
    "X_test = X_test[:,:,:,np.newaxis,np.newaxis]\n",
    "Y_test = Y_test[:,:,:,np.newaxis,np.newaxis]\n",
    "\n",
    "info('- X_train shape : {:>20}    X_test shape : {:>20}'.format(X_train.shape, X_test.shape))\n",
    "info('- Y_train shape : {:>20}    Y_test shape : {:>20}'.format(Y_train.shape, Y_test.shape))"
   ]
  },
  {
   "cell_type": "code",
   "execution_count": 12,
   "metadata": {
    "collapsed": false,
    "deletable": true,
    "editable": true,
    "scrolled": false
   },
   "outputs": [
    {
     "name": "stdout",
     "output_type": "stream",
     "text": [
      "Train on 15512 samples, validate on 544 samples\n",
      "Epoch 1/30\n",
      "111s - loss: 2.1111 - val_loss: 2.6158\n",
      "Epoch 2/30\n",
      "109s - loss: 2.0629 - val_loss: 2.0832\n",
      "Epoch 3/30\n",
      "109s - loss: 2.0329 - val_loss: 2.0241\n",
      "Epoch 4/30\n",
      "109s - loss: 2.0075 - val_loss: 2.0039\n",
      "Epoch 5/30\n",
      "109s - loss: 1.9746 - val_loss: 1.9236\n",
      "Epoch 6/30\n",
      "99s - loss: 1.9518 - val_loss: 1.8660\n",
      "Epoch 7/30\n",
      "109s - loss: 1.9265 - val_loss: 1.9618\n",
      "Epoch 8/30\n",
      "109s - loss: 1.8888 - val_loss: 2.2275\n",
      "Epoch 9/30\n",
      "109s - loss: 1.8743 - val_loss: 1.9905\n",
      "Epoch 10/30\n",
      "109s - loss: 1.8442 - val_loss: 1.9166\n",
      "2017-11-02 14:47:27 - t + 1 - HA       - MAE:  5.68 - RMSE:  9.28 - MAPE:  6.27\n",
      "2017-11-02 14:47:27 - t + 1 - ConvLSTM - MAE:  4.08 - RMSE:  6.10 - MAPE:  5.26\n",
      "2017-11-02 14:47:27 - t + 1 - *        - MAE: -1.60 - RMSE: -3.18 - MAPE: -1.01\n",
      "2017-11-02 14:47:27 - t + 2 - HA       - MAE:  5.64 - RMSE:  9.22 - MAPE:  6.24\n",
      "2017-11-02 14:47:27 - t + 2 - ConvLSTM - MAE:  4.32 - RMSE:  6.61 - MAPE:  5.47\n",
      "2017-11-02 14:47:27 - t + 2 - *        - MAE: -1.32 - RMSE: -2.61 - MAPE: -0.78\n",
      "2017-11-02 14:47:27 - t + 3 - HA       - MAE:  5.60 - RMSE:  9.16 - MAPE:  6.24\n",
      "2017-11-02 14:47:27 - t + 3 - ConvLSTM - MAE:  4.52 - RMSE:  7.02 - MAPE:  5.67\n",
      "2017-11-02 14:47:27 - t + 3 - *        - MAE: -1.08 - RMSE: -2.15 - MAPE: -0.57\n"
     ]
    }
   ],
   "source": [
    "global_start_time = time.time()\n",
    "early_stopping = EarlyStopping(monitor='val_loss', patience = 3)\n",
    "\n",
    "model = build_model(lags, preds, len(lns_train))\n",
    "\n",
    "# Train\n",
    "history = model.fit(X_train, Y_train,\n",
    "                    batch_size = 64, epochs = 30,\n",
    "                    shuffle = False, validation_data = (X_test, Y_test),\n",
    "                    verbose = 2, callbacks = [early_stopping])\n",
    "model.save('models/ConvLSTM_3x15min_10x64-5x64-10x64-5x64_Comparison.h5') \n",
    "\n",
    "Y_true = Y_test.squeeze() * Y_scale_test + Y_rm_mean_test\n",
    "Y_naive = Y_rm_mean_test\n",
    "Y_pred = model.predict(X_test).squeeze() * Y_scale_test + Y_rm_mean_test\n",
    "\n",
    "Y_true_total = np.sum(Y_true * Y_w_test, axis = 2).squeeze()\n",
    "Y_naive_total = np.sum(Y_naive * Y_w_test, axis = 2).squeeze()\n",
    "Y_pred_total = np.sum(Y_pred * Y_w_test, axis = 2).squeeze()\n",
    "    \n",
    "for t in range(preds):\n",
    "    mask = Y_true_total[:,t] > 0\n",
    "    Y_true_total_t = Y_true_total[mask, t] / 60\n",
    "    Y_naive_total_t = Y_naive_total[mask, t] / 60\n",
    "    Y_pred_total_t = Y_pred_total[mask, t] / 60  \n",
    "\n",
    "    error_naive_total_t = (Y_naive_total_t - Y_true_total_t)\n",
    "    error_lstm_total_t = (Y_pred_total_t - Y_true_total_t)\n",
    "\n",
    "    mae_ha = np.mean(np.abs(error_naive_total_t))\n",
    "    rmse_ha = np.sqrt(np.mean((error_naive_total_t)**2))\n",
    "    mape_ha = np.mean(np.abs(error_naive_total_t) / Y_true_total_t) * 100\n",
    "\n",
    "    mae_lstm = np.mean(np.abs(error_lstm_total_t))\n",
    "    rmse_lstm = np.sqrt(np.mean((error_lstm_total_t)**2))\n",
    "    mape_lstm = np.mean(np.abs(error_lstm_total_t) / Y_true_total_t) * 100\n",
    "\n",
    "    info(\"- t + %d - HA       - MAE: %5.2f - RMSE: %5.2f - MAPE: %5.2f\" % (t + 1, mae_ha, rmse_ha, mape_ha))\n",
    "    info(\"- t + %d - ConvLSTM - MAE: %5.2f - RMSE: %5.2f - MAPE: %5.2f\" % (t + 1, mae_lstm, rmse_lstm, mape_lstm))\n",
    "    info(\"- t + %d - *        - MAE: %5.2f - RMSE: %5.2f - MAPE: %5.2f\" % (t + 1, mae_lstm - mae_ha, rmse_lstm - rmse_ha, mape_lstm - mape_ha))\n"
   ]
  },
  {
   "cell_type": "code",
   "execution_count": 13,
   "metadata": {
    "collapsed": false,
    "deletable": true,
    "editable": true,
    "scrolled": false
   },
   "outputs": [
    {
     "data": {
      "text/plain": [
       "[<matplotlib.lines.Line2D at 0x7f1813e87210>]"
      ]
     },
     "execution_count": 13,
     "metadata": {},
     "output_type": "execute_result"
    },
    {
     "data": {
      "image/png": "[encoded data removed]",
      "text/plain": [
       "<matplotlib.figure.Figure at 0x7f1813e87a90>"
      ]
     },
     "metadata": {},
     "output_type": "display_data"
    }
   ],
   "source": [
    "plt.plot(history.history['loss'])\n",
    "plt.plot(history.history['val_loss'], linestyle = '--')"
   ]
  },
  {
   "cell_type": "code",
   "execution_count": 19,
   "metadata": {
    "collapsed": false,
    "deletable": true,
    "editable": true
   },
   "outputs": [],
   "source": [
    "output = pd.DataFrame(data = Y_pred[:,0,:], index = Y_ix_test, columns = lns_test)"
   ]
  },
  {
   "cell_type": "code",
   "execution_count": 20,
   "metadata": {
    "collapsed": false
   },
   "outputs": [],
   "source": [
    "output.to_csv('../data/Output-ConvLSTM_3x15min_10x64-5x64-10x64-5x64-Comparison_2.csv')"
   ]
  },
  {
   "cell_type": "code",
   "execution_count": null,
   "metadata": {
    "collapsed": true
   },
   "outputs": [],
   "source": []
  }
 ],
 "metadata": {
  "kernelspec": {
   "display_name": "Python 2",
   "language": "python",
   "name": "python2"
  },
  "language_info": {
   "codemirror_mode": {
    "name": "ipython",
    "version": 2
   },
   "file_extension": ".py",
   "mimetype": "text/x-python",
   "name": "python",
   "nbconvert_exporter": "python",
   "pygments_lexer": "ipython2",
   "version": "2.7.12"
  }
 },
 "nbformat": 4,
 "nbformat_minor": 2
}
