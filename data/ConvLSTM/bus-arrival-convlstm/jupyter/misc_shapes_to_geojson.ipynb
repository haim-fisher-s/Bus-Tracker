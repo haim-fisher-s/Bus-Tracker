{
 "cells": [
  {
   "cell_type": "code",
   "execution_count": 9,
   "metadata": {
    "collapsed": true
   },
   "outputs": [],
   "source": [
    "import os\n",
    "import pandas as pd\n",
    "import geopandas as gpd\n",
    "from shapely.ops import linemerge\n",
    "from shapely.wkt import loads\n",
    "\n",
    "%matplotlib inline"
   ]
  },
  {
   "cell_type": "code",
   "execution_count": 2,
   "metadata": {
    "collapsed": true
   },
   "outputs": [],
   "source": [
    "out_file_json = 'data/4A_1_RouteLinks.geojson'\n",
    "out_file_csv = 'data/4A_1_RouteLinks.csv'"
   ]
  },
  {
   "cell_type": "code",
   "execution_count": 3,
   "metadata": {
    "collapsed": true
   },
   "outputs": [],
   "source": [
    "def flatten(geom):\n",
    "    if geom.type == 'MultiLineString':\n",
    "        return linemerge(geom)\n",
    "    elif geom.type == 'LineString':\n",
    "        return geom\n",
    "    else:\n",
    "        return None"
   ]
  },
  {
   "cell_type": "code",
   "execution_count": 7,
   "metadata": {
    "collapsed": true
   },
   "outputs": [],
   "source": [
    "link_shape = gpd.read_file('data/routelinks/RouteLinks.shp')\n",
    "link_data = pd.read_csv('data/4A_1_Links.csv', sep = ';')"
   ]
  },
  {
   "cell_type": "code",
   "execution_count": 8,
   "metadata": {
    "collapsed": true
   },
   "outputs": [],
   "source": [
    "link_shape['PointLinkRef'] = link_shape['TripPointF'] + ':' + link_shape['TripPointT']"
   ]
  },
  {
   "cell_type": "code",
   "execution_count": 9,
   "metadata": {
    "collapsed": true
   },
   "outputs": [],
   "source": [
    "link = link_shape.merge(link_data, on = 'PointLinkRef')"
   ]
  },
  {
   "cell_type": "code",
   "execution_count": 10,
   "metadata": {
    "collapsed": true
   },
   "outputs": [],
   "source": [
    "stoplinks = link[['StopPointLinkRef', 'geometry']].dissolve(by='StopPointLinkRef').reset_index().rename(columns = {'StopPointLinkRef': 'LinkRef'})"
   ]
  },
  {
   "cell_type": "code",
   "execution_count": 11,
   "metadata": {
    "collapsed": true
   },
   "outputs": [],
   "source": [
    "stoplinks_wgs84 = stoplinks.to_crs(epsg=4326) "
   ]
  },
  {
   "cell_type": "code",
   "execution_count": 12,
   "metadata": {
    "collapsed": true
   },
   "outputs": [],
   "source": [
    "stoplinks_wgs84['geometry'] = stoplinks_wgs84['geometry'].apply(flatten)"
   ]
  },
  {
   "cell_type": "code",
   "execution_count": 13,
   "metadata": {
    "collapsed": true
   },
   "outputs": [],
   "source": [
    "if os.path.exists(out_file_json):\n",
    "    os.remove(out_file_json)\n",
    "    \n",
    "stoplinks_wgs84.to_file(out_file_json,driver='GeoJSON')"
   ]
  },
  {
   "cell_type": "code",
   "execution_count": 14,
   "metadata": {
    "collapsed": true
   },
   "outputs": [],
   "source": [
    "stoplinks_wgs84.to_csv(out_file_csv, index = False)"
   ]
  },
  {
   "cell_type": "markdown",
   "metadata": {},
   "source": [
    "### Points to GeoJSON"
   ]
  },
  {
   "cell_type": "code",
   "execution_count": 12,
   "metadata": {},
   "outputs": [],
   "source": [
    "point_data = pd.read_csv('../data/4A_1_Points.csv', sep = ';')\n",
    "crs = {'init': 'epsg:4326'}\n",
    "point_data = gpd.GeoDataFrame(point_data.drop(['Geography'], axis = 1), crs=crs, geometry=point_data['Geography'].apply(loads))"
   ]
  },
  {
   "cell_type": "code",
   "execution_count": 16,
   "metadata": {},
   "outputs": [],
   "source": [
    "out_points_json = '../data/4A_1_Points.geojson'\n",
    "point_data.to_file(out_points_json, driver='GeoJSON')"
   ]
  },
  {
   "cell_type": "code",
   "execution_count": null,
   "metadata": {
    "collapsed": true
   },
   "outputs": [],
   "source": []
  }
 ],
 "metadata": {
  "kernelspec": {
   "display_name": "Python 3",
   "language": "python",
   "name": "python3"
  },
  "language_info": {
   "codemirror_mode": {
    "name": "ipython",
    "version": 3
   },
   "file_extension": ".py",
   "mimetype": "text/x-python",
   "name": "python",
   "nbconvert_exporter": "python",
   "pygments_lexer": "ipython3",
   "version": "3.6.1"
  }
 },
 "nbformat": 4,
 "nbformat_minor": 2
}
