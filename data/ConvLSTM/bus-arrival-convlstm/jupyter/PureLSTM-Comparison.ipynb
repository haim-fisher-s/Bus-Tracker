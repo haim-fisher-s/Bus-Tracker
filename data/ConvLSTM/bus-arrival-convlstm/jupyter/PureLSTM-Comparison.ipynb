{
 "cells": [
  {
   "cell_type": "code",
   "execution_count": 1,
   "metadata": {
    "collapsed": false,
    "deletable": true,
    "editable": true
   },
   "outputs": [
    {
     "name": "stderr",
     "output_type": "stream",
     "text": [
      "Using TensorFlow backend.\n"
     ]
    },
    {
     "name": "stdout",
     "output_type": "stream",
     "text": [
      "numpy ver.: 1.13.1\n",
      "pandas ver.: 0.19.0\n",
      "tensorflow ver.: 1.0.0\n",
      "keras ver.: 2.0.8\n"
     ]
    }
   ],
   "source": [
    "import time\n",
    "import datetime\n",
    "\n",
    "import numpy as np\n",
    "import pandas as pd\n",
    "import tensorflow as tf\n",
    "\n",
    "import keras\n",
    "from keras.models import Sequential\n",
    "from keras.layers import *\n",
    "from keras.layers.wrappers import *\n",
    "from keras.optimizers import RMSprop\n",
    "from keras.callbacks import CSVLogger, EarlyStopping\n",
    "import keras.backend.tensorflow_backend as ktf\n",
    "\n",
    "import matplotlib.pyplot as plt\n",
    "\n",
    "from common import *\n",
    "\n",
    "%matplotlib inline\n",
    "import visualization as viz\n",
    "viz.set_plot_style()\n",
    "\n",
    "print('numpy ver.: ' + np.__version__)\n",
    "print('pandas ver.: ' + pd.__version__)\n",
    "print('tensorflow ver.: ' + tf.__version__) \n",
    "print('keras ver.: ' + keras.__version__)"
   ]
  },
  {
   "cell_type": "code",
   "execution_count": 2,
   "metadata": {
    "collapsed": true,
    "deletable": true,
    "editable": true
   },
   "outputs": [],
   "source": [
    "def get_session(gpu_fraction=1):\n",
    "    gpu_options = tf.GPUOptions(per_process_gpu_memory_fraction=gpu_fraction,\n",
    "                                allow_growth=True)\n",
    "    return tf.Session(config=tf.ConfigProto(gpu_options=gpu_options))\n",
    "\n",
    "ktf.set_session(get_session())"
   ]
  },
  {
   "cell_type": "markdown",
   "metadata": {
    "deletable": true,
    "editable": true
   },
   "source": [
    "## Functions"
   ]
  },
  {
   "cell_type": "markdown",
   "metadata": {
    "deletable": true,
    "editable": true
   },
   "source": [
    "### Functions for generate data"
   ]
  },
  {
   "cell_type": "code",
   "execution_count": 19,
   "metadata": {
    "collapsed": false,
    "deletable": true,
    "editable": true
   },
   "outputs": [],
   "source": [
    "def build_model(input_timesteps, output_timesteps, num_links):\n",
    "    model = Sequential()\n",
    "    model.add(BatchNormalization(name = 'batch_norm_0', input_shape = (input_timesteps, num_links)))\n",
    "    model.add(LSTM(name ='lstm_1',\n",
    "                   units = 64,\n",
    "                   return_sequences = True))\n",
    "    \n",
    "    model.add(Dropout(0.2, name = 'dropout_1'))\n",
    "    model.add(BatchNormalization(name = 'batch_norm_1'))\n",
    "\n",
    "    model.add(LSTM(name ='lstm_2',\n",
    "                   units = 64,\n",
    "                   return_sequences = False))\n",
    "    \n",
    "    model.add(Dropout(0.1, name = 'dropout_2'))\n",
    "    model.add(BatchNormalization(name = 'batch_norm_2'))\n",
    "    \n",
    "    model.add(RepeatVector(output_timesteps))\n",
    "    \n",
    "    model.add(LSTM(name ='lstm_3',\n",
    "                   units = 64,\n",
    "                   return_sequences = True))\n",
    "    \n",
    "    model.add(Dropout(0.1, name = 'dropout_3'))\n",
    "    model.add(BatchNormalization(name = 'batch_norm_3'))\n",
    "    \n",
    "    model.add(LSTM(name ='lstm_4',\n",
    "                   units = num_links,\n",
    "                   return_sequences = True))\n",
    "    \n",
    "    model.add(TimeDistributed(Dense(units=num_links, name = 'dense_1', activation = 'linear')))\n",
    "\n",
    "    optimizer = RMSprop()\n",
    "    model.compile(loss = \"mse\", optimizer = optimizer)\n",
    "    return model"
   ]
  },
  {
   "cell_type": "code",
   "execution_count": 9,
   "metadata": {
    "collapsed": true,
    "deletable": true,
    "editable": true
   },
   "outputs": [],
   "source": [
    "def info(msg):\n",
    "    print(datetime.datetime.now().strftime('%Y-%m-%d %H:%M:%S') + \" \" + msg)"
   ]
  },
  {
   "cell_type": "markdown",
   "metadata": {
    "deletable": true,
    "editable": true
   },
   "source": [
    "## Load data"
   ]
  },
  {
   "cell_type": "code",
   "execution_count": 10,
   "metadata": {
    "collapsed": false,
    "deletable": true,
    "editable": true
   },
   "outputs": [
    {
     "name": "stdout",
     "output_type": "stream",
     "text": [
      "1213677\n"
     ]
    }
   ],
   "source": [
    "data = prep_data('../data/4A_1_201705_201710.csv')\n",
    "print(len(data))"
   ]
  },
  {
   "cell_type": "markdown",
   "metadata": {
    "deletable": true,
    "editable": true
   },
   "source": [
    "Subset the part of the 4A line that are identical across all journey patterns."
   ]
  },
  {
   "cell_type": "code",
   "execution_count": 11,
   "metadata": {
    "collapsed": false,
    "deletable": true,
    "editable": true
   },
   "outputs": [
    {
     "name": "stdout",
     "output_type": "stream",
     "text": [
      "907390\n"
     ]
    }
   ],
   "source": [
    "data = data[(1 <= data['LineDirectionLinkOrder']) & (data['LineDirectionLinkOrder'] <= 32)]\n",
    "data = data[data['LinkTravelTime'].notnull()]\n",
    "assert len(data['LinkRef'].unique()) == 32\n",
    "n = len(data)\n",
    "print(n)"
   ]
  },
  {
   "cell_type": "code",
   "execution_count": 12,
   "metadata": {
    "collapsed": true,
    "deletable": true,
    "editable": true
   },
   "outputs": [],
   "source": [
    "lags = 4 * 8\n",
    "preds = 3"
   ]
  },
  {
   "cell_type": "markdown",
   "metadata": {
    "deletable": true,
    "editable": true
   },
   "source": [
    "## Train and test"
   ]
  },
  {
   "cell_type": "code",
   "execution_count": 13,
   "metadata": {
    "collapsed": false,
    "deletable": true,
    "editable": true
   },
   "outputs": [
    {
     "name": "stdout",
     "output_type": "stream",
     "text": [
      "2017-11-06 10:41:34 - Train size :   873720 (96.29%) \n",
      "2017-11-06 10:41:34 - Test size  :    33670 (3.71%) \n"
     ]
    }
   ],
   "source": [
    "# Devide into test and train\n",
    "data_train = data[data['DateTime'] < '2017-10-10']\n",
    "data_test = data['2017-10-10' <= data['DateTime']]\n",
    "n_train = len(data_train)\n",
    "n_test = len(data_test)\n",
    "info('- Train size : {:>8} ({:.2f}%) '.format(n_train, 100. * n_train / n))\n",
    "info('- Test size  : {:>8} ({:.2f}%) '.format(n_test, 100. * n_test / n))"
   ]
  },
  {
   "cell_type": "code",
   "execution_count": 14,
   "metadata": {
    "collapsed": true,
    "deletable": true,
    "editable": true
   },
   "outputs": [],
   "source": [
    "# Mean center and scale\n",
    "(means, scales, low, upr) = fit_scale(data_train)\n",
    "assert means.shape == (4 * 24 * 7, 32)\n",
    "assert len(scales) == 32\n",
    "assert low.shape == (4 * 24 * 7, 32)\n",
    "assert upr.shape == (4 * 24 * 7, 32)"
   ]
  },
  {
   "cell_type": "code",
   "execution_count": 21,
   "metadata": {
    "collapsed": false,
    "deletable": true,
    "editable": true
   },
   "outputs": [
    {
     "name": "stdout",
     "output_type": "stream",
     "text": [
      "2017-11-06 10:44:22 - X_train shape :      (15512, 32, 32)    X_test shape :        (544, 32, 32)\n",
      "2017-11-06 10:44:22 - Y_train shape :       (15512, 3, 32)    Y_test shape :         (544, 3, 32)\n"
     ]
    }
   ],
   "source": [
    "ix_train, ts_train, rm_mean_train, rm_scale_train, w_train, lns_train = transform(data_train, means, scales)\n",
    "ix_test, ts_test, rm_mean_test, rm_scale_test, w_test, lns_test = transform(data_test, means, scales)\n",
    "\n",
    "# Create rolling window tensor\n",
    "X_train, Y_train, Y_ix_train, Y_rm_mean_train, Y_scale_train, Y_w_train = roll(ix_train, ts_train, rm_mean_train, rm_scale_train, w_train, lags, preds)\n",
    "X_test, Y_test, Y_ix_test, Y_rm_mean_test, Y_scale_test, Y_w_test = roll(ix_test, ts_test, rm_mean_test, rm_scale_test, w_test, lags, preds)\n",
    "\n",
    "X_train = X_train[:,:,:]\n",
    "Y_train = Y_train[:,:,:]\n",
    "X_test = X_test[:,:,:]\n",
    "Y_test = Y_test[:,:,:]\n",
    "\n",
    "info('- X_train shape : {:>20}    X_test shape : {:>20}'.format(X_train.shape, X_test.shape))\n",
    "info('- Y_train shape : {:>20}    Y_test shape : {:>20}'.format(Y_train.shape, Y_test.shape))"
   ]
  },
  {
   "cell_type": "code",
   "execution_count": 22,
   "metadata": {
    "collapsed": false,
    "deletable": true,
    "editable": true,
    "scrolled": false
   },
   "outputs": [
    {
     "name": "stdout",
     "output_type": "stream",
     "text": [
      "Train on 15512 samples, validate on 544 samples\n",
      "Epoch 1/30\n",
      "34s - loss: 2.1872 - val_loss: 2.8690\n",
      "Epoch 2/30\n",
      "32s - loss: 2.1548 - val_loss: 2.7408\n",
      "Epoch 3/30\n",
      "32s - loss: 2.1329 - val_loss: 2.7548\n",
      "Epoch 4/30\n",
      "32s - loss: 2.1076 - val_loss: 2.8209\n",
      "Epoch 5/30\n",
      "32s - loss: 2.0811 - val_loss: 2.8846\n",
      "Epoch 6/30\n",
      "32s - loss: 2.0575 - val_loss: 2.9010\n",
      "2017-11-06 10:47:48 - t + 1 - HA       - MAE:  5.68 - RMSE:  9.28 - MAPE:  6.27\n",
      "2017-11-06 10:47:48 - t + 1 - PureLSTM - MAE:  4.94 - RMSE:  7.90 - MAPE:  5.87\n",
      "2017-11-06 10:47:48 - t + 1 - *        - MAE: -0.74 - RMSE: -1.38 - MAPE: -0.40\n",
      "2017-11-06 10:47:48 - t + 2 - HA       - MAE:  5.64 - RMSE:  9.22 - MAPE:  6.24\n",
      "2017-11-06 10:47:48 - t + 2 - PureLSTM - MAE:  5.16 - RMSE:  8.31 - MAPE:  6.12\n",
      "2017-11-06 10:47:48 - t + 2 - *        - MAE: -0.48 - RMSE: -0.91 - MAPE: -0.13\n",
      "2017-11-06 10:47:48 - t + 3 - HA       - MAE:  5.60 - RMSE:  9.16 - MAPE:  6.24\n",
      "2017-11-06 10:47:48 - t + 3 - PureLSTM - MAE:  5.22 - RMSE:  8.43 - MAPE:  6.21\n",
      "2017-11-06 10:47:48 - t + 3 - *        - MAE: -0.38 - RMSE: -0.73 - MAPE: -0.03\n"
     ]
    }
   ],
   "source": [
    "global_start_time = time.time()\n",
    "early_stopping = EarlyStopping(monitor='val_loss', patience = 3)\n",
    "\n",
    "model = build_model(lags, preds, len(lns_train))\n",
    "\n",
    "# Train\n",
    "history = model.fit(X_train, Y_train,\n",
    "                    batch_size = 64, epochs = 30,\n",
    "                    shuffle = False, validation_data = (X_test, Y_test),\n",
    "                    verbose = 2, callbacks = [early_stopping])\n",
    "model.save('models/PureLSTM_Comparison.h5') \n",
    "\n",
    "Y_true = Y_test.squeeze() * Y_scale_test + Y_rm_mean_test\n",
    "Y_naive = Y_rm_mean_test\n",
    "Y_pred = model.predict(X_test).squeeze() * Y_scale_test + Y_rm_mean_test\n",
    "\n",
    "Y_true_total = np.sum(Y_true * Y_w_test, axis = 2).squeeze()\n",
    "Y_naive_total = np.sum(Y_naive * Y_w_test, axis = 2).squeeze()\n",
    "Y_pred_total = np.sum(Y_pred * Y_w_test, axis = 2).squeeze()\n",
    "    \n",
    "for t in range(preds):\n",
    "    mask = Y_true_total[:,t] > 0\n",
    "    Y_true_total_t = Y_true_total[mask, t] / 60\n",
    "    Y_naive_total_t = Y_naive_total[mask, t] / 60\n",
    "    Y_pred_total_t = Y_pred_total[mask, t] / 60  \n",
    "\n",
    "    error_naive_total_t = (Y_naive_total_t - Y_true_total_t)\n",
    "    error_lstm_total_t = (Y_pred_total_t - Y_true_total_t)\n",
    "\n",
    "    mae_ha = np.mean(np.abs(error_naive_total_t))\n",
    "    rmse_ha = np.sqrt(np.mean((error_naive_total_t)**2))\n",
    "    mape_ha = np.mean(np.abs(error_naive_total_t) / Y_true_total_t) * 100\n",
    "\n",
    "    mae_lstm = np.mean(np.abs(error_lstm_total_t))\n",
    "    rmse_lstm = np.sqrt(np.mean((error_lstm_total_t)**2))\n",
    "    mape_lstm = np.mean(np.abs(error_lstm_total_t) / Y_true_total_t) * 100\n",
    "\n",
    "    info(\"- t + %d - HA       - MAE: %5.2f - RMSE: %5.2f - MAPE: %5.2f\" % (t + 1, mae_ha, rmse_ha, mape_ha))\n",
    "    info(\"- t + %d - PureLSTM - MAE: %5.2f - RMSE: %5.2f - MAPE: %5.2f\" % (t + 1, mae_lstm, rmse_lstm, mape_lstm))\n",
    "    info(\"- t + %d - *        - MAE: %5.2f - RMSE: %5.2f - MAPE: %5.2f\" % (t + 1, mae_lstm - mae_ha, rmse_lstm - rmse_ha, mape_lstm - mape_ha))\n"
   ]
  },
  {
   "cell_type": "code",
   "execution_count": 23,
   "metadata": {
    "collapsed": false,
    "deletable": true,
    "editable": true,
    "scrolled": false
   },
   "outputs": [
    {
     "data": {
      "text/plain": [
       "[<matplotlib.lines.Line2D at 0x7f7d08ac0150>]"
      ]
     },
     "execution_count": 23,
     "metadata": {},
     "output_type": "execute_result"
    },
    {
     "data": {
      "image/png": "[encoded data removed]",
      "text/plain": [
       "<matplotlib.figure.Figure at 0x7f7d08ac0e50>"
      ]
     },
     "metadata": {},
     "output_type": "display_data"
    }
   ],
   "source": [
    "plt.plot(history.history['loss'], color = viz.colors['Bu'])\n",
    "plt.plot(history.history['val_loss'], linestyle = '--', color = viz.colors['Or'])"
   ]
  },
  {
   "cell_type": "code",
   "execution_count": 24,
   "metadata": {
    "collapsed": false,
    "deletable": true,
    "editable": true
   },
   "outputs": [],
   "source": [
    "output = pd.DataFrame(data = Y_pred[:,0,:], index = Y_ix_test, columns = lns_test)"
   ]
  },
  {
   "cell_type": "code",
   "execution_count": 25,
   "metadata": {
    "collapsed": false,
    "deletable": true,
    "editable": true
   },
   "outputs": [],
   "source": [
    "output.to_csv('../data/Output-PureLSTM.csv')"
   ]
  },
  {
   "cell_type": "code",
   "execution_count": 27,
   "metadata": {
    "collapsed": false,
    "deletable": true,
    "editable": true
   },
   "outputs": [
    {
     "data": {
      "text/html": [
       "<div>\n",
       "<table border=\"1\" class=\"dataframe\">\n",
       "  <thead>\n",
       "    <tr style=\"text-align: right;\">\n",
       "      <th></th>\n",
       "      <th>Time ahead</th>\n",
       "      <th>RMSE (min)</th>\n",
       "      <th>MAE (min)</th>\n",
       "      <th>MAPE (%)</th>\n",
       "      <th>SMAPE (%)</th>\n",
       "    </tr>\n",
       "    <tr>\n",
       "      <th>Model</th>\n",
       "      <th></th>\n",
       "      <th></th>\n",
       "      <th></th>\n",
       "      <th></th>\n",
       "      <th></th>\n",
       "    </tr>\n",
       "  </thead>\n",
       "  <tbody>\n",
       "    <tr>\n",
       "      <th>PureLSTM</th>\n",
       "      <td>t + 1 (15 min)</td>\n",
       "      <td>3.482980</td>\n",
       "      <td>2.475227</td>\n",
       "      <td>5.023274</td>\n",
       "      <td>1.300641</td>\n",
       "    </tr>\n",
       "    <tr>\n",
       "      <th>PureLSTM</th>\n",
       "      <td>t + 2 (30 min)</td>\n",
       "      <td>3.555931</td>\n",
       "      <td>2.506649</td>\n",
       "      <td>5.076020</td>\n",
       "      <td>1.314723</td>\n",
       "    </tr>\n",
       "    <tr>\n",
       "      <th>PureLSTM</th>\n",
       "      <td>t + 3 (45 min)</td>\n",
       "      <td>3.684890</td>\n",
       "      <td>2.622132</td>\n",
       "      <td>5.335662</td>\n",
       "      <td>1.380861</td>\n",
       "    </tr>\n",
       "  </tbody>\n",
       "</table>\n",
       "</div>"
      ],
      "text/plain": [
       "              Time ahead  RMSE (min)  MAE (min)  MAPE (%)  SMAPE (%)\n",
       "Model                                                               \n",
       "PureLSTM  t + 1 (15 min)    3.482980   2.475227  5.023274   1.300641\n",
       "PureLSTM  t + 2 (30 min)    3.555931   2.506649  5.076020   1.314723\n",
       "PureLSTM  t + 3 (45 min)    3.684890   2.622132  5.335662   1.380861"
      ]
     },
     "execution_count": 27,
     "metadata": {},
     "output_type": "execute_result"
    }
   ],
   "source": [
    "results = pd.DataFrame(columns = ['Model', 'Time ahead', 'RMSE (min)', 'MAE (min)', 'MAPE (%)', 'SMAPE (%)'])\n",
    "\n",
    "ix_eval = Y_ix_test[('2017-10-11' <= Y_ix_test) & (Y_ix_test <= '2017-10-14')]\n",
    "ix_eval = ix_eval[ix_eval.indexer_between_time('06:00', '22:00')]\n",
    "mask = Y_ix_test.isin(ix_eval)\n",
    "\n",
    "Y_true_total_ = np.sum(Y_true[mask], axis = 2).squeeze() / 60\n",
    "Y_naive_total_ = np.sum(Y_naive[mask], axis = 2).squeeze() / 60\n",
    "Y_pred_total_ = np.sum(Y_pred[mask], axis = 2).squeeze() / 60\n",
    "\n",
    "for t in range(preds):\n",
    "    rmse = np.sqrt(np.mean((Y_true_total_[:,t] - Y_pred_total_[:,t])**2))\n",
    "    mae = np.mean(np.abs((Y_true_total_[:,t] - Y_pred_total_[:,t])))\n",
    "    mape = np.mean(np.abs((Y_true_total_[:,t] - Y_pred_total_[:,t])) / Y_true_total_[:,t]) * 100\n",
    "    smape = np.mean(np.abs((Y_true_total_[:,t] - Y_pred_total_[:,t])) / (np.abs(Y_true_total_[:,t]) + np.abs(Y_pred_total_[:,t])) / 2) * 100\n",
    "    results = results.append(pd.DataFrame([['PureLSTM', 't + ' + str(t+1) + ' (' + str(15+t*15) + ' min)', rmse, mae, mape, smape]], columns = results.columns), ignore_index = True)\n",
    "\n",
    "results.set_index('Model')"
   ]
  },
  {
   "cell_type": "code",
   "execution_count": 32,
   "metadata": {
    "collapsed": false
   },
   "outputs": [
    {
     "name": "stdout",
     "output_type": "stream",
     "text": [
      "\\begin{tabular}{llrrr}\n",
      "\\toprule\n",
      "    Model &      Time ahead &  RMSE (min) &  MAE (min) &  MAPE (\\%) \\\\\n",
      "\\midrule\n",
      " PureLSTM &  t + 1 (15 min) &    3.482980 &   2.475227 &  5.023274 \\\\\n",
      " PureLSTM &  t + 2 (30 min) &    3.555931 &   2.506649 &  5.076020 \\\\\n",
      " PureLSTM &  t + 3 (45 min) &    3.684890 &   2.622132 &  5.335662 \\\\\n",
      "\\bottomrule\n",
      "\\end{tabular}\n",
      "\n"
     ]
    }
   ],
   "source": [
    "print(results[['Model', 'Time ahead', 'RMSE (min)', 'MAE (min)', 'MAPE (%)']].to_latex(index = False))"
   ]
  },
  {
   "cell_type": "code",
   "execution_count": null,
   "metadata": {
    "collapsed": true
   },
   "outputs": [],
   "source": []
  }
 ],
 "metadata": {
  "kernelspec": {
   "display_name": "Python 2",
   "language": "python",
   "name": "python2"
  },
  "language_info": {
   "codemirror_mode": {
    "name": "ipython",
    "version": 2
   },
   "file_extension": ".py",
   "mimetype": "text/x-python",
   "name": "python",
   "nbconvert_exporter": "python",
   "pygments_lexer": "ipython2",
   "version": "2.7.12"
  }
 },
 "nbformat": 4,
 "nbformat_minor": 2
}
