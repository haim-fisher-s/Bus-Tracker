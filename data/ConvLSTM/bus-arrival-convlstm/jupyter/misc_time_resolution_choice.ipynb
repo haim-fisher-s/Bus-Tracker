{
 "cells": [
  {
   "cell_type": "markdown",
   "metadata": {},
   "source": [
    "# Comparison"
   ]
  },
  {
   "cell_type": "code",
   "execution_count": 1,
   "metadata": {},
   "outputs": [
    {
     "name": "stdout",
     "output_type": "stream",
     "text": [
      "numpy ver.: 1.12.1\n",
      "pandas ver.: 0.20.1\n"
     ]
    }
   ],
   "source": [
    "import time\n",
    "from datetime import datetime\n",
    "\n",
    "import numpy as np\n",
    "import pandas as pd\n",
    "\n",
    "import matplotlib.pyplot as plt\n",
    "import matplotlib.dates as md\n",
    "import seaborn as sns\n",
    "\n",
    "from common import *\n",
    "\n",
    "%matplotlib inline\n",
    "import visualization as viz\n",
    "viz.set_plot_style()\n",
    "\n",
    "print('numpy ver.: ' + np.__version__)\n",
    "print('pandas ver.: ' + pd.__version__)"
   ]
  },
  {
   "cell_type": "code",
   "execution_count": 2,
   "metadata": {},
   "outputs": [
    {
     "name": "stdout",
     "output_type": "stream",
     "text": [
      "1213677\n"
     ]
    }
   ],
   "source": [
    "data = prep_data('../data/4A_1_201705_201710.csv')\n",
    "print(len(data))"
   ]
  },
  {
   "cell_type": "markdown",
   "metadata": {},
   "source": [
    "Links included in the evaluation, i.e. the first 32 links of 4A in the CCW direction:"
   ]
  },
  {
   "cell_type": "code",
   "execution_count": 3,
   "metadata": {},
   "outputs": [
    {
     "name": "stdout",
     "output_type": "stream",
     "text": [
      "943136\n"
     ]
    }
   ],
   "source": [
    "data = data[(1 <= data['LineDirectionLinkOrder']) & (data['LineDirectionLinkOrder'] <= 32)]\n",
    "assert len(data['LinkRef'].unique()) == 32\n",
    "n = len(data)\n",
    "print(n)"
   ]
  },
  {
   "cell_type": "code",
   "execution_count": 4,
   "metadata": {
    "collapsed": true
   },
   "outputs": [],
   "source": [
    "data['DateTime'] = pd.to_datetime(data['DateTime'])"
   ]
  },
  {
   "cell_type": "code",
   "execution_count": 32,
   "metadata": {},
   "outputs": [],
   "source": [
    "ts = data.set_index('DateTime', drop = False)\n",
    "ts['Headway'] = ((ts.groupby('LinkRef').shift(-1)['DateTime'] - ts['DateTime']) / np.timedelta64(1, 's'))"
   ]
  },
  {
   "cell_type": "code",
   "execution_count": 38,
   "metadata": {},
   "outputs": [
    {
     "data": {
      "text/plain": [
       "7.506428307990226"
      ]
     },
     "execution_count": 38,
     "metadata": {},
     "output_type": "execute_result"
    }
   ],
   "source": [
    "ts.resample('5min')['Headway'].mean().interpolate().between_time('06:00', '22:00').mean() / 60"
   ]
  },
  {
   "cell_type": "code",
   "execution_count": 5,
   "metadata": {
    "collapsed": true
   },
   "outputs": [],
   "source": [
    "mask = ('2017-10-12 06:00' <= data['DateTime'] ) & (data['DateTime'] < '2017-10-12 22:00') & (data['LinkRef'] == '1190:1192')"
   ]
  },
  {
   "cell_type": "code",
   "execution_count": 6,
   "metadata": {},
   "outputs": [
    {
     "data": {
      "text/plain": [
       "170"
      ]
     },
     "execution_count": 6,
     "metadata": {},
     "output_type": "execute_result"
    }
   ],
   "source": [
    "ts_sel = data[mask].set_index('DateTime')['LinkTravelTime']\n",
    "len(ts_sel)"
   ]
  },
  {
   "cell_type": "code",
   "execution_count": 7,
   "metadata": {
    "collapsed": true
   },
   "outputs": [],
   "source": [
    "ts_5min = ts_sel.resample('5min').mean().interpolate()\n",
    "ts_15min = ts_sel.resample('15min').mean().interpolate()\n",
    "ts_30min = ts_sel.resample('30min').mean().interpolate()"
   ]
  },
  {
   "cell_type": "code",
   "execution_count": 8,
   "metadata": {},
   "outputs": [
    {
     "data": {
      "text/plain": [
       "<matplotlib.figure.Figure at 0x1fb6a630>"
      ]
     },
     "metadata": {},
     "output_type": "display_data"
    },
    {
     "data": {
      "text/plain": [
       "<matplotlib.figure.Figure at 0x1fb6ad30>"
      ]
     },
     "metadata": {},
     "output_type": "display_data"
    },
    {
     "data": {
      "text/plain": [
       "<matplotlib.figure.Figure at 0x17b9deb8>"
      ]
     },
     "metadata": {},
     "output_type": "display_data"
    }
   ],
   "source": [
    "tss = [ts_5min, ts_15min, ts_30min]\n",
    "figs = ['5min', '15min', '30min']\n",
    "cols = ['C1', 'C2', 'C3']\n",
    "\n",
    "for i in range(len(tss)):\n",
    "    fig, ax = plt.subplots(figsize = (9, 6))\n",
    "    plt.plot(ts_sel, linestyle = '', marker = 'o', color = 'C0')\n",
    "    plt.plot(tss[i], linestyle = '-', color = cols[i])\n",
    "\n",
    "    dt_ix = pd.date_range(min(ts_15min.index), max(ts_15min.index) + pd.to_timedelta('00:15:00'), freq = '4H')\n",
    "    ax.set_xticks(dt_ix[dt_ix.indexer_between_time('06:00', '00:00')])\n",
    "    xfmt = md.DateFormatter('%H:%M')\n",
    "\n",
    "    ax.xaxis.set_major_formatter(xfmt)\n",
    "    #ax.set_xlabel('Time')\n",
    "    #ax.set_ylabel('Link Travel Time (min)')\n",
    "    \n",
    "    plt.savefig('../paper/plots/decycle_' + figs[i] + '_n.pdf', bbox_inches='tight')\n",
    "    plt.clf()"
   ]
  },
  {
   "cell_type": "code",
   "execution_count": null,
   "metadata": {
    "collapsed": true
   },
   "outputs": [],
   "source": []
  }
 ],
 "metadata": {
  "kernelspec": {
   "display_name": "Python 2",
   "language": "python",
   "name": "python2"
  },
  "language_info": {
   "codemirror_mode": {
    "name": "ipython",
    "version": 2
   },
   "file_extension": ".py",
   "mimetype": "text/x-python",
   "name": "python",
   "nbconvert_exporter": "python",
   "pygments_lexer": "ipython2",
   "version": "2.7.13"
  }
 },
 "nbformat": 4,
 "nbformat_minor": 2
}
