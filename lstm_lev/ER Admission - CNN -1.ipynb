{
 "cells": [
  {
   "cell_type": "markdown",
   "metadata": {},
   "source": [
    "# Demonstrates use of CNN with Time Series"
   ]
  },
  {
   "cell_type": "markdown",
   "metadata": {
    "ExecuteTime": {
     "end_time": "2020-12-31T09:34:55.828232Z",
     "start_time": "2020-12-31T09:34:55.816263Z"
    }
   },
   "source": [
    "## Initialize"
   ]
  },
  {
   "cell_type": "code",
   "execution_count": 11,
   "metadata": {
    "ExecuteTime": {
     "end_time": "2021-12-24T12:57:00.198457Z",
     "start_time": "2021-12-24T12:56:59.886072Z"
    }
   },
   "outputs": [],
   "source": [
    "import os\n",
    "os.environ[\"KMP_DUPLICATE_LIB_OK\"]=\"TRUE\"\n",
    "%matplotlib inline\n",
    "import torch, torchvision\n",
    "import os\n",
    "import matplotlib.pyplot as plt, numpy as np,  pandas as pd\n",
    "\n",
    "root_notebook_folder = os.path.abspath('.')\n",
    "data_folder = os.path.abspath('./local_data')\n",
    "device = torch.device(\"cuda\" if torch.cuda.is_available() else \"cpu\")"
   ]
  },
  {
   "cell_type": "markdown",
   "metadata": {
    "ExecuteTime": {
     "end_time": "2020-12-31T09:35:15.377321Z",
     "start_time": "2020-12-31T09:35:15.368346Z"
    }
   },
   "source": [
    "## Demonstrate the data"
   ]
  },
  {
   "cell_type": "code",
   "execution_count": 13,
   "metadata": {
    "ExecuteTime": {
     "end_time": "2021-12-24T12:57:37.398409Z",
     "start_time": "2021-12-24T12:57:33.784417Z"
    }
   },
   "outputs": [
    {
     "data": {
      "text/html": [
       "<div>\n",
       "<style scoped>\n",
       "    .dataframe tbody tr th:only-of-type {\n",
       "        vertical-align: middle;\n",
       "    }\n",
       "\n",
       "    .dataframe tbody tr th {\n",
       "        vertical-align: top;\n",
       "    }\n",
       "\n",
       "    .dataframe thead th {\n",
       "        text-align: right;\n",
       "    }\n",
       "</style>\n",
       "<table border=\"1\" class=\"dataframe\">\n",
       "  <thead>\n",
       "    <tr style=\"text-align: right;\">\n",
       "      <th></th>\n",
       "      <th>n</th>\n",
       "    </tr>\n",
       "    <tr>\n",
       "      <th>t</th>\n",
       "      <th></th>\n",
       "    </tr>\n",
       "  </thead>\n",
       "  <tbody>\n",
       "    <tr>\n",
       "      <th>2004-01-01 00:00:00</th>\n",
       "      <td>5</td>\n",
       "    </tr>\n",
       "    <tr>\n",
       "      <th>2004-01-01 01:00:00</th>\n",
       "      <td>8</td>\n",
       "    </tr>\n",
       "    <tr>\n",
       "      <th>2004-01-01 02:00:00</th>\n",
       "      <td>8</td>\n",
       "    </tr>\n",
       "    <tr>\n",
       "      <th>2004-01-01 03:00:00</th>\n",
       "      <td>8</td>\n",
       "    </tr>\n",
       "    <tr>\n",
       "      <th>2004-01-01 04:00:00</th>\n",
       "      <td>0</td>\n",
       "    </tr>\n",
       "  </tbody>\n",
       "</table>\n",
       "</div>"
      ],
      "text/plain": [
       "                     n\n",
       "t                     \n",
       "2004-01-01 00:00:00  5\n",
       "2004-01-01 01:00:00  8\n",
       "2004-01-01 02:00:00  8\n",
       "2004-01-01 03:00:00  8\n",
       "2004-01-01 04:00:00  0"
      ]
     },
     "execution_count": 13,
     "metadata": {},
     "output_type": "execute_result"
    }
   ],
   "source": [
    "data_file_name = os.path.join(data_folder, 'ER admission_1.csv')\n",
    "raw_data = pd.read_csv(data_file_name)\n",
    "raw_data['t'] = pd.to_datetime(raw_data['t'])\n",
    "raw_data = raw_data.reset_index(drop=True).set_index('t')\n",
    "raw_data.head()"
   ]
  },
  {
   "cell_type": "markdown",
   "metadata": {},
   "source": [
    "## Custom Dataset Class\n",
    "\n",
    "<img src=\"lstm_data_arrangement.png\"></img>"
   ]
  },
  {
   "cell_type": "code",
   "execution_count": 14,
   "metadata": {
    "ExecuteTime": {
     "end_time": "2021-12-24T13:03:18.156490Z",
     "start_time": "2021-12-24T13:03:18.121490Z"
    },
    "code_folding": []
   },
   "outputs": [],
   "source": [
    "class TimeSeriesDataSet(torch.utils.data.Dataset):   \n",
    "    def __init__(self, data_folder, history_samples, horizon_samples):\n",
    "        import pandas as pd, os, torch\n",
    "        super(TimeSeriesDataSet).__init__() # call parent class constructor. \n",
    "\n",
    "        \n",
    "        self.data_folder = data_folder\n",
    "        self.history_samples = history_samples\n",
    "        self.horizon_samples = horizon_samples\n",
    "        \n",
    "        self.df = pd.read_csv( os.path.join(self.data_folder, 'ER admission_1.csv'))\n",
    "        self.df['t'] = pd.to_datetime(self.df['t'])\n",
    "        self.df = self.df.reset_index(drop=True).set_index('t')\n",
    "\n",
    "    def __len__(self):\n",
    "        return len(self.df) - self.history_samples - self.horizon_samples + 1\n",
    "\n",
    "    def __getitem__(self, idx):\n",
    "        import torch\n",
    "        if idx >= self.__len__():\n",
    "            raise  IndexError(f'Index out of range: {idx} out of {self.__len__()}')\n",
    "        x = torch.FloatTensor(self.df.iloc[idx:idx+ self.history_samples]['n'].values)\n",
    "        y = torch.FloatTensor(self.df.iloc[idx+ self.history_samples : idx+self.history_samples + self.horizon_samples]['n'].values)\n",
    "        return (x.view(1, -1), y) # number of channels, number of samples"
   ]
  },
  {
   "cell_type": "markdown",
   "metadata": {},
   "source": [
    "### Load the data"
   ]
  },
  {
   "cell_type": "code",
   "execution_count": 15,
   "metadata": {
    "ExecuteTime": {
     "end_time": "2021-12-24T13:03:24.188777Z",
     "start_time": "2021-12-24T13:03:20.673830Z"
    }
   },
   "outputs": [],
   "source": [
    "all_data = TimeSeriesDataSet(data_folder,\n",
    "                history_samples=24*14, \n",
    "                horizon_samples=24*3)"
   ]
  },
  {
   "cell_type": "markdown",
   "metadata": {},
   "source": [
    "- X dimensions:  history size to learn from (14 days) x number of channels (1)\n",
    "- Y dimensions:  number of samples to predict  x 1 (number of channels)"
   ]
  },
  {
   "cell_type": "markdown",
   "metadata": {},
   "source": [
    "### split into train and test sets. "
   ]
  },
  {
   "cell_type": "code",
   "execution_count": 16,
   "metadata": {
    "ExecuteTime": {
     "end_time": "2021-12-24T13:03:31.148642Z",
     "start_time": "2021-12-24T13:03:31.115643Z"
    }
   },
   "outputs": [
    {
     "name": "stdout",
     "output_type": "stream",
     "text": [
      "Data set: 33913. history size: 336. Prediction window size: 72 \n",
      "Train set: 30521: from 0 to: 30520\n",
      "Test set: 2984: from 30929 to: 33912\n",
      "sample size: x: torch.Size([1, 336]), y: torch.Size([72])\n"
     ]
    }
   ],
   "source": [
    "train_set = torch.utils.data.Subset(all_data, list(range(int(len(all_data)*0.9))))\n",
    "test_set = torch.utils.data.Subset(all_data, list(range(int(len(all_data)*0.9)+all_data.history_samples+all_data.horizon_samples, len(all_data))))\n",
    "\n",
    "print(f'Data set: {len(all_data)}. history size: {all_data.history_samples}. Prediction window size: {all_data.horizon_samples} ')\n",
    "print(f\"Train set: {len(train_set)}: from {train_set.indices[0]} to: {train_set.indices[-1]}\")\n",
    "print(f\"Test set: {len(test_set)}: from {test_set.indices[0]} to: {test_set.indices[-1]}\")\n",
    "print(f\"sample size: x: {train_set[0][0].shape}, y: {train_set[0][1].shape}\")"
   ]
  },
  {
   "cell_type": "markdown",
   "metadata": {},
   "source": [
    "### Train & apply scaler to train set, apply only to test set"
   ]
  },
  {
   "cell_type": "code",
   "execution_count": 17,
   "metadata": {
    "ExecuteTime": {
     "end_time": "2021-12-24T13:03:35.840557Z",
     "start_time": "2021-12-24T13:03:35.785717Z"
    }
   },
   "outputs": [
    {
     "name": "stdout",
     "output_type": "stream",
     "text": [
      "min-max: 0.0 - 1.0\n"
     ]
    }
   ],
   "source": [
    "from sklearn.preprocessing import MinMaxScaler\n",
    "scaler = MinMaxScaler(feature_range=(0, 1))\n",
    "# train scaler on the train set: 0 to len(train_set) + history_samples + horizon_samples\n",
    "scaler.fit(all_data.df['n'].iloc[:len(train_set)+all_data.history_samples+all_data.horizon_samples].values.reshape(-1,1))\n",
    "all_data.df[:] = scaler.transform(all_data.df)\n",
    "print(f\"min-max: {all_data.df['n'].min()} - {all_data.df['n'].max()}\")"
   ]
  },
  {
   "cell_type": "code",
   "execution_count": 18,
   "metadata": {
    "ExecuteTime": {
     "end_time": "2021-12-24T13:03:37.162494Z",
     "start_time": "2021-12-24T13:03:37.138213Z"
    }
   },
   "outputs": [
    {
     "data": {
      "text/plain": [
       "(torch.Size([1, 336]), torch.Size([72]))"
      ]
     },
     "execution_count": 18,
     "metadata": {},
     "output_type": "execute_result"
    }
   ],
   "source": [
    "X,y = train_set[0]\n",
    "X.shape, y.shape"
   ]
  },
  {
   "cell_type": "markdown",
   "metadata": {
    "ExecuteTime": {
     "end_time": "2021-01-12T16:09:56.411624Z",
     "start_time": "2021-01-12T16:09:56.396493Z"
    }
   },
   "source": [
    "### Demonstrate use of 1d convolution"
   ]
  },
  {
   "cell_type": "code",
   "execution_count": 19,
   "metadata": {
    "ExecuteTime": {
     "end_time": "2021-12-24T13:03:39.195005Z",
     "start_time": "2021-12-24T13:03:39.145004Z"
    }
   },
   "outputs": [
    {
     "data": {
      "text/plain": [
       "torch.Size([10, 9, 16])"
      ]
     },
     "execution_count": 19,
     "metadata": {},
     "output_type": "execute_result"
    }
   ],
   "source": [
    "x = torch.rand(10, 1, 20) # batch x channels x samples\n",
    "torch.nn.Conv1d(1, 9, kernel_size=5)(x).shape # batch x channels x samples"
   ]
  },
  {
   "cell_type": "markdown",
   "metadata": {},
   "source": [
    "## Define and train the model"
   ]
  },
  {
   "cell_type": "markdown",
   "metadata": {},
   "source": [
    "### Define the network class"
   ]
  },
  {
   "cell_type": "code",
   "execution_count": 20,
   "metadata": {
    "ExecuteTime": {
     "end_time": "2021-12-24T13:18:30.504051Z",
     "start_time": "2021-12-24T13:18:30.478539Z"
    }
   },
   "outputs": [],
   "source": [
    "class CNNModel1(torch.nn.Module):\n",
    "    def __init__(self, window_size,  input_dim, output_dim):\n",
    "        super(CNNModel1, self).__init__()\n",
    "        self.window_size  = window_size # number of samples to train from. \n",
    "        self.input_dim = input_dim # number of features in the input. \n",
    "        self.output_dim = output_dim # number of features to predict. \n",
    "\n",
    "        # Define the LSTM layer\n",
    "        self.conv1 = torch.nn.Conv1d(self.input_dim, 25, kernel_size=21, padding=10)\n",
    "        self.relu1 = torch.nn.ReLU()\n",
    "\n",
    "        # Define the dense layers. \n",
    "        self.fc1 = torch.nn.Linear(25*self.window_size , 100)\n",
    "        self.relu1 = torch.nn.ReLU()\n",
    "        self.fc2 = torch.nn.Linear(100, self.output_dim)\n",
    "\n",
    "    def forward(self, x):\n",
    "        #x shape: batch_size x input_dim (number of features) x window_size\n",
    "        if x.ndim == 2: \n",
    "            x = x.unsqueeze(0)\n",
    "        batch_size = x.shape[0] # first dimension of the input is the number of batches. \n",
    "        #print(x.shape)\n",
    "        x = self.relu1(self.conv1(x))        \n",
    "        \n",
    "        #print(x.shape)\n",
    "        x = x.view(batch_size, -1) # result size; batch_size x input_dim * number of features * window_size\n",
    "        #print(x.shape)\n",
    "        x = self.relu1(self.fc1(x))\n",
    "        x = self.fc2(x)\n",
    "        return x"
   ]
  },
  {
   "cell_type": "markdown",
   "metadata": {},
   "source": [
    "### Demonstrate use of the model\n",
    "Used to confirm that the model can indeed run with the given data"
   ]
  },
  {
   "cell_type": "code",
   "execution_count": 21,
   "metadata": {
    "ExecuteTime": {
     "end_time": "2021-12-24T13:26:57.163530Z",
     "start_time": "2021-12-24T13:26:57.112563Z"
    }
   },
   "outputs": [
    {
     "data": {
      "text/plain": [
       "torch.Size([1, 72])"
      ]
     },
     "execution_count": 21,
     "metadata": {},
     "output_type": "execute_result"
    }
   ],
   "source": [
    "model = CNNModel1(window_size=all_data.history_samples,  input_dim=1, output_dim=all_data.horizon_samples)\n",
    "model(all_data[0][0]).shape"
   ]
  },
  {
   "cell_type": "markdown",
   "metadata": {
    "ExecuteTime": {
     "end_time": "2021-01-01T17:47:38.670265Z",
     "start_time": "2021-01-01T17:47:38.655298Z"
    }
   },
   "source": [
    "### Load & scale the data "
   ]
  },
  {
   "cell_type": "code",
   "execution_count": 22,
   "metadata": {
    "ExecuteTime": {
     "end_time": "2021-12-24T13:27:04.736776Z",
     "start_time": "2021-12-24T13:27:01.118531Z"
    }
   },
   "outputs": [],
   "source": [
    "all_data = TimeSeriesDataSet(data_folder,\n",
    "                history_samples=24*14, \n",
    "                horizon_samples=24*3)\n",
    "# split into train and test set\n",
    "train_dataset = torch.utils.data.Subset(all_data, list(range(int(len(all_data)*0.9))))\n",
    "test_dataset = torch.utils.data.Subset(all_data, list(range(int(len(all_data)*0.9)+all_data.history_samples+all_data.horizon_samples, len(all_data))))\n",
    "# normalize\n",
    "from sklearn.preprocessing import MinMaxScaler\n",
    "scaler = MinMaxScaler(feature_range=(0, 1))\n",
    "# train scaler on the train set: 0 to len(train_set) + history_samples + horizon_samples\n",
    "scaler.fit(all_data.df['n'].iloc[:len(train_dataset)+all_data.history_samples+all_data.horizon_samples].values.reshape(-1,1))\n",
    "all_data.df[:] = scaler.transform(all_data.df)"
   ]
  },
  {
   "cell_type": "markdown",
   "metadata": {
    "ExecuteTime": {
     "end_time": "2021-01-01T18:25:19.845612Z",
     "start_time": "2021-01-01T18:25:19.832397Z"
    }
   },
   "source": [
    "#### Iterate over batches"
   ]
  },
  {
   "cell_type": "code",
   "execution_count": 23,
   "metadata": {
    "ExecuteTime": {
     "end_time": "2021-12-24T13:27:04.906451Z",
     "start_time": "2021-12-24T13:27:04.741400Z"
    }
   },
   "outputs": [
    {
     "data": {
      "text/plain": [
       "(torch.Size([3, 1, 336]), torch.Size([3, 72]), torch.Size([3, 72]))"
      ]
     },
     "execution_count": 23,
     "metadata": {},
     "output_type": "execute_result"
    }
   ],
   "source": [
    "train_loader = torch.utils.data.DataLoader(train_dataset, batch_size=3, shuffle=True, drop_last=False)    \n",
    "x, y = next(iter(train_loader))\n",
    "x.shape, model(x).shape, y.shape"
   ]
  },
  {
   "cell_type": "markdown",
   "metadata": {
    "ExecuteTime": {
     "end_time": "2021-01-01T18:24:59.739242Z",
     "start_time": "2021-01-01T18:24:59.721781Z"
    }
   },
   "source": [
    "### Define method to compute model Accuracy"
   ]
  },
  {
   "cell_type": "code",
   "execution_count": 24,
   "metadata": {
    "ExecuteTime": {
     "end_time": "2021-12-24T13:27:33.703403Z",
     "start_time": "2021-12-24T13:27:33.681878Z"
    }
   },
   "outputs": [],
   "source": [
    "def model_accuracy(model, data_loader):  \n",
    "    device = next(model.parameters()).device # get device on which the model is loaded. \n",
    "    model.eval() # must set model to evaluation mode to disable dropout!\n",
    "    with torch.no_grad():\n",
    "        current_mse, samples_counts = 0, 0\n",
    "        for X, y in data_loader: \n",
    "            X, y = X.to(device=device), y.to(device=device)\n",
    "            y_pred = model(X)\n",
    "            current_mse += torch.nn.MSELoss()(y_pred, y)*len(y)\n",
    "            samples_counts += len(y)\n",
    "        return current_mse/samples_counts"
   ]
  },
  {
   "cell_type": "code",
   "execution_count": 25,
   "metadata": {
    "ExecuteTime": {
     "end_time": "2021-12-24T13:27:51.047968Z",
     "start_time": "2021-12-24T13:27:34.732727Z"
    }
   },
   "outputs": [
    {
     "data": {
      "text/plain": [
       "tensor(0.1024, device='cuda:0')"
      ]
     },
     "execution_count": 25,
     "metadata": {},
     "output_type": "execute_result"
    }
   ],
   "source": [
    "train_loader = torch.utils.data.DataLoader(train_dataset, batch_size=2000, shuffle=True, drop_last=False)    \n",
    "model = CNNModel1(window_size=all_data.history_samples,  input_dim=1, output_dim=all_data.horizon_samples)\n",
    "model.to(device)\n",
    "model_accuracy(model,train_loader)"
   ]
  },
  {
   "cell_type": "code",
   "execution_count": 26,
   "metadata": {
    "ExecuteTime": {
     "end_time": "2021-12-24T13:28:01.278295Z",
     "start_time": "2021-12-24T13:28:01.239297Z"
    }
   },
   "outputs": [],
   "source": [
    "def training_loop(model, optimizer, criterion, device, train_dataset, validation_dataset, n_epochs = 50, batch_size = 20, checkpoint_file_name = None):  \n",
    "    import os, time\n",
    "    train_loader = torch.utils.data.DataLoader(train_dataset, batch_size=batch_size, shuffle=True, drop_last=False)    \n",
    "    validation_loader = torch.utils.data.DataLoader(validation_dataset, batch_size=batch_size, shuffle=True, drop_last=False) if validation_dataset is not None else None\n",
    "\n",
    "    if (checkpoint_file_name is not None) and (os.path.isfile(checkpoint_file_name)): # checkpoint found!         \n",
    "        checkpoint_data = torch.load(checkpoint_file_name)\n",
    "        \n",
    "        first_epoch = checkpoint_data['epoch']+1 # +1 continue from the following epoch        \n",
    "        model.load_state_dict(checkpoint_data['model_state_dict'])\n",
    "        optimizer.load_state_dict(checkpoint_data['optimizer_state_dict'])\n",
    "        progress_log = checkpoint_data['progress_log']        \n",
    "    else:\n",
    "        first_epoch = 0\n",
    "        progress_log = []\n",
    "        \n",
    "    model.to(device)\n",
    "    \n",
    "    torch.autograd.set_detect_anomaly(True)\n",
    "    for epoch in range(first_epoch, n_epochs):\n",
    "        epoch_start_time = time.time()\n",
    "        model.train() # set model into train mode. \n",
    "        \n",
    "        current_loss = 0\n",
    "\n",
    "        for train_data, train_data_labels in train_loader:\n",
    "            train_data, train_data_labels = train_data.to(device=device), train_data_labels.to(device=device) # move train data to device. \n",
    "\n",
    "            optimizer.zero_grad() # clear gradients of all model parameters. \n",
    "            output = model(train_data) # forward pass: compute model predictions\n",
    "            loss = criterion(output, train_data_labels) # calculate the current loss\n",
    "            loss.backward(retain_graph=True) # backward pass: compute gradient of the loss for all model parameters. \n",
    "            optimizer.step() # use gradients to update the model parameters \n",
    "\n",
    "            current_loss += loss.item() * len(train_data) # weight loss by the size of the batch. \n",
    "        # evaluate performance of the batch: torch.no_grad() is not required since it's called in the model_accuracy function.     \n",
    "\n",
    "        train_accuracy = model_accuracy(model, train_loader)\n",
    "        validate_accuracy = model_accuracy(model, validation_loader) if validation_loader is not None else -1\n",
    "        print(f\"{epoch} of {n_epochs}. time={time.time()-epoch_start_time:0.2f}sec. Loss: {current_loss/ len(train_loader.dataset):0.4f}.Train accuracy: {train_accuracy:0.4f}. Validate accuracy: {validate_accuracy:0.4f}\")\n",
    "        progress_log.append({'epoch':epoch,'epoch_start_time':time.time()-epoch_start_time, 'loss':current_loss/ len(train_loader.dataset), 'train_accuracy':train_accuracy, 'validate_accuracy':validate_accuracy })\n",
    "\n",
    "        # save checkpoint: \n",
    "        if checkpoint_file_name is not None:\n",
    "            checkpoint_data  = {\n",
    "                'epoch' : epoch,\n",
    "                'model_state_dict': model.state_dict(),\n",
    "                'optimizer_state_dict': optimizer.state_dict(),\n",
    "                'progress_log' : progress_log\n",
    "            }\n",
    "            torch.save(checkpoint_data, checkpoint_file_name)\n",
    "    model.eval();\n",
    "    return model, progress_log"
   ]
  },
  {
   "cell_type": "markdown",
   "metadata": {},
   "source": [
    "To clear GPU Memory: \n",
    "<code>\n",
    "import gc\n",
    "del model\n",
    "del optimizer\n",
    "gc.collect()\n",
    "torch.cuda.empty_cache()\n",
    "</code>"
   ]
  },
  {
   "cell_type": "code",
   "execution_count": 27,
   "metadata": {
    "ExecuteTime": {
     "end_time": "2021-12-24T13:33:00.540128Z",
     "start_time": "2021-12-24T13:28:08.432679Z"
    }
   },
   "outputs": [
    {
     "name": "stdout",
     "output_type": "stream",
     "text": [
      "0 of 15. time=18.15sec. Loss: 1.3975.Train accuracy: 0.0443. Validate accuracy: -1.0000\n",
      "1 of 15. time=19.09sec. Loss: 0.0312.Train accuracy: 0.0272. Validate accuracy: -1.0000\n",
      "2 of 15. time=18.14sec. Loss: 0.0261.Train accuracy: 0.0251. Validate accuracy: -1.0000\n",
      "3 of 15. time=17.93sec. Loss: 0.0244.Train accuracy: 0.0237. Validate accuracy: -1.0000\n",
      "4 of 15. time=18.04sec. Loss: 0.0233.Train accuracy: 0.0229. Validate accuracy: -1.0000\n",
      "5 of 15. time=18.07sec. Loss: 0.0226.Train accuracy: 0.0223. Validate accuracy: -1.0000\n",
      "6 of 15. time=18.07sec. Loss: 0.0221.Train accuracy: 0.0219. Validate accuracy: -1.0000\n",
      "7 of 15. time=18.35sec. Loss: 0.0218.Train accuracy: 0.0217. Validate accuracy: -1.0000\n",
      "8 of 15. time=18.63sec. Loss: 0.0217.Train accuracy: 0.0217. Validate accuracy: -1.0000\n",
      "9 of 15. time=23.18sec. Loss: 0.0216.Train accuracy: 0.0216. Validate accuracy: -1.0000\n",
      "10 of 15. time=21.52sec. Loss: 0.0216.Train accuracy: 0.0216. Validate accuracy: -1.0000\n",
      "11 of 15. time=20.66sec. Loss: 0.0216.Train accuracy: 0.0216. Validate accuracy: -1.0000\n",
      "12 of 15. time=21.45sec. Loss: 0.0216.Train accuracy: 0.0216. Validate accuracy: -1.0000\n",
      "13 of 15. time=21.35sec. Loss: 0.0216.Train accuracy: 0.0216. Validate accuracy: -1.0000\n",
      "14 of 15. time=18.60sec. Loss: 0.0216.Train accuracy: 0.0216. Validate accuracy: -1.0000\n"
     ]
    }
   ],
   "source": [
    "checkpoint_file_name = os.path.join(data_folder, 'ER Admission - CNN -1.checkpoint.pt' )\n",
    "n_epochs = 15\n",
    "batch_size = 2000\n",
    "\n",
    "model = CNNModel1(window_size=all_data.history_samples,  input_dim=1, output_dim=all_data.horizon_samples)\n",
    "criterion = torch.nn.MSELoss()\n",
    "optimizer = torch.optim.Adam(model.parameters(), lr = 0.01)\n",
    "\n",
    "\n",
    "model, progress_log = training_loop(model, optimizer, criterion, device, train_dataset, validation_dataset=None, \n",
    "                    n_epochs = n_epochs, batch_size = batch_size, \n",
    "                    checkpoint_file_name=checkpoint_file_name) "
   ]
  },
  {
   "cell_type": "code",
   "execution_count": 28,
   "metadata": {
    "ExecuteTime": {
     "end_time": "2021-12-24T13:33:30.040469Z",
     "start_time": "2021-12-24T13:33:29.826976Z"
    }
   },
   "outputs": [
    {
     "name": "stdout",
     "output_type": "stream",
     "text": [
      "0 of 15. Loss: 1.3975.Train accuracy: 0.0443.\n",
      "1 of 15. Loss: 0.0312.Train accuracy: 0.0272.\n",
      "2 of 15. Loss: 0.0261.Train accuracy: 0.0251.\n",
      "3 of 15. Loss: 0.0244.Train accuracy: 0.0237.\n",
      "4 of 15. Loss: 0.0233.Train accuracy: 0.0229.\n",
      "5 of 15. Loss: 0.0226.Train accuracy: 0.0223.\n",
      "6 of 15. Loss: 0.0221.Train accuracy: 0.0219.\n",
      "7 of 15. Loss: 0.0218.Train accuracy: 0.0217.\n",
      "8 of 15. Loss: 0.0217.Train accuracy: 0.0217.\n",
      "9 of 15. Loss: 0.0216.Train accuracy: 0.0216.\n",
      "10 of 15. Loss: 0.0216.Train accuracy: 0.0216.\n",
      "11 of 15. Loss: 0.0216.Train accuracy: 0.0216.\n",
      "12 of 15. Loss: 0.0216.Train accuracy: 0.0216.\n",
      "13 of 15. Loss: 0.0216.Train accuracy: 0.0216.\n",
      "14 of 15. Loss: 0.0216.Train accuracy: 0.0216.\n"
     ]
    }
   ],
   "source": [
    "for log_entry in progress_log: \n",
    "    print(f\"{log_entry['epoch']} of {len(progress_log)}. Loss: {log_entry['loss']:0.4f}.Train accuracy: {log_entry['train_accuracy'].item():0.4f}.\")"
   ]
  },
  {
   "cell_type": "markdown",
   "metadata": {
    "ExecuteTime": {
     "end_time": "2021-01-13T08:19:31.195789Z",
     "start_time": "2021-01-13T08:19:31.163181Z"
    }
   },
   "source": [
    "## Define and train CNN with Batch normalization, Max pooling and Dropout"
   ]
  },
  {
   "cell_type": "markdown",
   "metadata": {},
   "source": [
    "### Define the model"
   ]
  },
  {
   "cell_type": "code",
   "execution_count": 30,
   "metadata": {
    "ExecuteTime": {
     "end_time": "2021-12-24T13:36:26.280915Z",
     "start_time": "2021-12-24T13:36:26.251915Z"
    }
   },
   "outputs": [],
   "source": [
    "class CNNModel1a(torch.nn.Module):\n",
    "    def __init__(self, window_size,  input_dim, output_dim):\n",
    "        super(CNNModel1a, self).__init__()\n",
    "        self.window_size  = window_size # number of samples to train from. \n",
    "        self.input_dim = input_dim # number of features in the input. \n",
    "        self.output_dim = output_dim # number of features to predict. \n",
    "\n",
    "        # Define the Conv1 layer\n",
    "        # batch_size x input_dim  x  336 -> batch_size x 25 x  336\n",
    "        self.conv1 = torch.nn.Conv1d(self.input_dim, 25, kernel_size=9, padding=4)\n",
    "        self.relu1 = torch.nn.ReLU()\n",
    "        self.bn1 = torch.nn.BatchNorm1d(25)\n",
    "        # batch_size x 25 x  336 -> batch_size x 25 x  336/2\n",
    "        self.maxpool1 = torch.nn.MaxPool1d(kernel_size=2, stride=2)\n",
    "        self.dropout1 = torch.nn.Dropout(0.3)\n",
    "        \n",
    "        # batch_size x 25 x  336/2 -> batch_size x 20 x  336/2=84\n",
    "        self.conv2 = torch.nn.Conv1d( 25, 20, kernel_size=9, padding=4)\n",
    "        self.relu2 = torch.nn.ReLU()\n",
    "        self.bn2 = torch.nn.BatchNorm1d(20)\n",
    "        \n",
    "        # batch_size x 25 x  336/2 -> batch_size x 20 x  336/4=84\n",
    "        self.maxpool2 = torch.nn.MaxPool1d(kernel_size=2, stride=2)\n",
    "        self.dropout2 = torch.nn.Dropout(0.3)\n",
    "        \n",
    "\n",
    "        # Define the dense layers. \n",
    "        self.fc1 = torch.nn.Linear(20*int(self.window_size/4) , 100)\n",
    "        self.relu_fc1 = torch.nn.ReLU()\n",
    "        self.bn_fc1 = torch.nn.BatchNorm1d(100)\n",
    "        self.fc2 = torch.nn.Linear(100, self.output_dim)\n",
    "\n",
    "    def forward(self, x):\n",
    "        #x shape: batch_size x input_dim x window_size\n",
    "        if x.ndim == 2: \n",
    "            x = x.unsqueeze(0)\n",
    "        batch_size = x.shape[0] # first dimension of the input is the number of batches. \n",
    "        #print(x.shape)\n",
    "        x = self.relu1(self.conv1(x))     \n",
    "        #print(x.shape)\n",
    "        x = self.dropout1(self.maxpool1(x))\n",
    "        x = self.bn1(x)\n",
    "        #print(x.shape)\n",
    "        x = self.relu2(self.conv2(x))     \n",
    "        x = self.dropout2(self.maxpool2(x))\n",
    "        x = self.bn2(x)\n",
    "        #print(x.shape)\n",
    "        x = x.view(batch_size, -1) # result size; batch_size x input_dim * number of features * window_size\n",
    "        #print(x.shape)\n",
    "        x = self.bn_fc1(self.relu_fc1(self.fc1(x)))\n",
    "        x = self.fc2(x)\n",
    "        return x"
   ]
  },
  {
   "cell_type": "markdown",
   "metadata": {},
   "source": [
    "### Test the model mechanics"
   ]
  },
  {
   "cell_type": "code",
   "execution_count": 31,
   "metadata": {
    "ExecuteTime": {
     "end_time": "2021-12-24T13:36:28.671551Z",
     "start_time": "2021-12-24T13:36:28.549260Z"
    }
   },
   "outputs": [
    {
     "data": {
      "text/plain": [
       "(torch.Size([3, 1, 336]), torch.Size([3, 72]), torch.Size([3, 72]))"
      ]
     },
     "execution_count": 31,
     "metadata": {},
     "output_type": "execute_result"
    }
   ],
   "source": [
    "model = CNNModel1a(window_size=all_data.history_samples,  input_dim=1, output_dim=all_data.horizon_samples)\n",
    "\n",
    "train_loader = torch.utils.data.DataLoader(train_dataset, batch_size=3, shuffle=True, drop_last=False)    \n",
    "x, y = next(iter(train_loader))\n",
    "x.shape, model(x).shape, y.shape"
   ]
  },
  {
   "cell_type": "code",
   "execution_count": 32,
   "metadata": {
    "ExecuteTime": {
     "end_time": "2021-12-24T13:41:41.743962Z",
     "start_time": "2021-12-24T13:36:29.633366Z"
    }
   },
   "outputs": [
    {
     "name": "stdout",
     "output_type": "stream",
     "text": [
      "0 of 15. time=20.71sec. Loss: 0.1264.Train accuracy: 0.0193. Validate accuracy: -1.0000\n",
      "1 of 15. time=20.11sec. Loss: 0.0182.Train accuracy: 0.0139. Validate accuracy: -1.0000\n",
      "2 of 15. time=20.11sec. Loss: 0.0110.Train accuracy: 0.0095. Validate accuracy: -1.0000\n",
      "3 of 15. time=19.07sec. Loss: 0.0093.Train accuracy: 0.0087. Validate accuracy: -1.0000\n",
      "4 of 15. time=19.11sec. Loss: 0.0088.Train accuracy: 0.0082. Validate accuracy: -1.0000\n",
      "5 of 15. time=19.10sec. Loss: 0.0085.Train accuracy: 0.0079. Validate accuracy: -1.0000\n",
      "6 of 15. time=20.02sec. Loss: 0.0083.Train accuracy: 0.0077. Validate accuracy: -1.0000\n",
      "7 of 15. time=19.10sec. Loss: 0.0081.Train accuracy: 0.0075. Validate accuracy: -1.0000\n",
      "8 of 15. time=19.05sec. Loss: 0.0079.Train accuracy: 0.0074. Validate accuracy: -1.0000\n",
      "9 of 15. time=19.89sec. Loss: 0.0078.Train accuracy: 0.0073. Validate accuracy: -1.0000\n",
      "10 of 15. time=20.63sec. Loss: 0.0077.Train accuracy: 0.0072. Validate accuracy: -1.0000\n",
      "11 of 15. time=21.31sec. Loss: 0.0076.Train accuracy: 0.0072. Validate accuracy: -1.0000\n",
      "12 of 15. time=24.08sec. Loss: 0.0075.Train accuracy: 0.0071. Validate accuracy: -1.0000\n",
      "13 of 15. time=23.66sec. Loss: 0.0075.Train accuracy: 0.0070. Validate accuracy: -1.0000\n",
      "14 of 15. time=25.50sec. Loss: 0.0074.Train accuracy: 0.0070. Validate accuracy: -1.0000\n"
     ]
    }
   ],
   "source": [
    "checkpoint_file_name = os.path.join(data_folder, 'ER Admission - CNN -1a.checkpoint.pt' )\n",
    "n_epochs = 15\n",
    "batch_size = 2000\n",
    "\n",
    "model = CNNModel1a(window_size=all_data.history_samples,  input_dim=1, output_dim=all_data.horizon_samples)\n",
    "criterion = torch.nn.MSELoss()\n",
    "optimizer = torch.optim.Adam(model.parameters(), lr = 0.01)\n",
    "\n",
    "\n",
    "model, progress_log = training_loop(model, optimizer, criterion, device, train_dataset, validation_dataset=None, \n",
    "                    n_epochs = n_epochs, batch_size = batch_size, \n",
    "                    checkpoint_file_name=checkpoint_file_name) "
   ]
  },
  {
   "cell_type": "code",
   "execution_count": 33,
   "metadata": {
    "ExecuteTime": {
     "end_time": "2021-12-24T13:43:19.213414Z",
     "start_time": "2021-12-24T13:43:18.987211Z"
    }
   },
   "outputs": [
    {
     "name": "stdout",
     "output_type": "stream",
     "text": [
      "0 of 15. Loss: 0.1264.Train accuracy: 0.0193.\n",
      "1 of 15. Loss: 0.0182.Train accuracy: 0.0139.\n",
      "2 of 15. Loss: 0.0110.Train accuracy: 0.0095.\n",
      "3 of 15. Loss: 0.0093.Train accuracy: 0.0087.\n",
      "4 of 15. Loss: 0.0088.Train accuracy: 0.0082.\n",
      "5 of 15. Loss: 0.0085.Train accuracy: 0.0079.\n",
      "6 of 15. Loss: 0.0083.Train accuracy: 0.0077.\n",
      "7 of 15. Loss: 0.0081.Train accuracy: 0.0075.\n",
      "8 of 15. Loss: 0.0079.Train accuracy: 0.0074.\n",
      "9 of 15. Loss: 0.0078.Train accuracy: 0.0073.\n",
      "10 of 15. Loss: 0.0077.Train accuracy: 0.0072.\n",
      "11 of 15. Loss: 0.0076.Train accuracy: 0.0072.\n",
      "12 of 15. Loss: 0.0075.Train accuracy: 0.0071.\n",
      "13 of 15. Loss: 0.0075.Train accuracy: 0.0070.\n",
      "14 of 15. Loss: 0.0074.Train accuracy: 0.0070.\n"
     ]
    }
   ],
   "source": [
    "for log_entry in progress_log: \n",
    "    print(f\"{log_entry['epoch']} of {len(progress_log)}. Loss: {log_entry['loss']:0.4f}.Train accuracy: {log_entry['train_accuracy'].item():0.4f}.\")"
   ]
  },
  {
   "cell_type": "markdown",
   "metadata": {
    "ExecuteTime": {
     "end_time": "2021-01-02T07:57:51.616115Z",
     "start_time": "2021-01-02T07:57:51.600479Z"
    }
   },
   "source": [
    "### Explore the model"
   ]
  },
  {
   "cell_type": "markdown",
   "metadata": {},
   "source": [
    "#### Compute average accuracy"
   ]
  },
  {
   "cell_type": "code",
   "execution_count": 34,
   "metadata": {
    "ExecuteTime": {
     "end_time": "2021-12-24T13:43:26.307855Z",
     "start_time": "2021-12-24T13:43:25.349503Z"
    }
   },
   "outputs": [
    {
     "name": "stdout",
     "output_type": "stream",
     "text": [
      "test accuracy: 0.007044543977826834\n"
     ]
    }
   ],
   "source": [
    "test_loader = torch.utils.data.DataLoader(test_dataset, batch_size=2000, shuffle=False, drop_last=False)    \n",
    "test_accuracy = model_accuracy(model, test_loader).item()\n",
    "print(f\"test accuracy: {test_accuracy}\")"
   ]
  },
  {
   "cell_type": "markdown",
   "metadata": {},
   "source": [
    "#### Plot model convergence "
   ]
  },
  {
   "cell_type": "code",
   "execution_count": 35,
   "metadata": {
    "ExecuteTime": {
     "end_time": "2021-12-24T13:43:31.054063Z",
     "start_time": "2021-12-24T13:43:31.016016Z"
    }
   },
   "outputs": [
    {
     "data": {
      "text/html": [
       "<div>\n",
       "<style scoped>\n",
       "    .dataframe tbody tr th:only-of-type {\n",
       "        vertical-align: middle;\n",
       "    }\n",
       "\n",
       "    .dataframe tbody tr th {\n",
       "        vertical-align: top;\n",
       "    }\n",
       "\n",
       "    .dataframe thead th {\n",
       "        text-align: right;\n",
       "    }\n",
       "</style>\n",
       "<table border=\"1\" class=\"dataframe\">\n",
       "  <thead>\n",
       "    <tr style=\"text-align: right;\">\n",
       "      <th></th>\n",
       "      <th>epoch</th>\n",
       "      <th>epoch_start_time</th>\n",
       "      <th>loss</th>\n",
       "      <th>train_accuracy</th>\n",
       "      <th>validate_accuracy</th>\n",
       "    </tr>\n",
       "  </thead>\n",
       "  <tbody>\n",
       "    <tr>\n",
       "      <th>0</th>\n",
       "      <td>0</td>\n",
       "      <td>20.723027</td>\n",
       "      <td>0.126430</td>\n",
       "      <td>0.019331</td>\n",
       "      <td>-1</td>\n",
       "    </tr>\n",
       "    <tr>\n",
       "      <th>1</th>\n",
       "      <td>1</td>\n",
       "      <td>20.131949</td>\n",
       "      <td>0.018246</td>\n",
       "      <td>0.013946</td>\n",
       "      <td>-1</td>\n",
       "    </tr>\n",
       "    <tr>\n",
       "      <th>2</th>\n",
       "      <td>2</td>\n",
       "      <td>20.124948</td>\n",
       "      <td>0.011050</td>\n",
       "      <td>0.009498</td>\n",
       "      <td>-1</td>\n",
       "    </tr>\n",
       "    <tr>\n",
       "      <th>3</th>\n",
       "      <td>3</td>\n",
       "      <td>19.087648</td>\n",
       "      <td>0.009336</td>\n",
       "      <td>0.008680</td>\n",
       "      <td>-1</td>\n",
       "    </tr>\n",
       "    <tr>\n",
       "      <th>4</th>\n",
       "      <td>4</td>\n",
       "      <td>19.124015</td>\n",
       "      <td>0.008821</td>\n",
       "      <td>0.008177</td>\n",
       "      <td>-1</td>\n",
       "    </tr>\n",
       "  </tbody>\n",
       "</table>\n",
       "</div>"
      ],
      "text/plain": [
       "   epoch  epoch_start_time      loss  train_accuracy  validate_accuracy\n",
       "0      0         20.723027  0.126430        0.019331                 -1\n",
       "1      1         20.131949  0.018246        0.013946                 -1\n",
       "2      2         20.124948  0.011050        0.009498                 -1\n",
       "3      3         19.087648  0.009336        0.008680                 -1\n",
       "4      4         19.124015  0.008821        0.008177                 -1"
      ]
     },
     "execution_count": 35,
     "metadata": {},
     "output_type": "execute_result"
    }
   ],
   "source": [
    "import pandas as pd\n",
    "log_data = pd.DataFrame(progress_log)\n",
    "log_data['train_accuracy'] = log_data['train_accuracy'].apply(lambda x: x.item())\n",
    "log_data.head()"
   ]
  },
  {
   "cell_type": "code",
   "execution_count": 36,
   "metadata": {
    "ExecuteTime": {
     "end_time": "2021-12-24T13:43:34.377275Z",
     "start_time": "2021-12-24T13:43:34.033141Z"
    }
   },
   "outputs": [
    {
     "data": {
      "image/png": "[encoded data removed]",
      "text/plain": [
       "<Figure size 432x288 with 1 Axes>"
      ]
     },
     "metadata": {
      "needs_background": "light"
     },
     "output_type": "display_data"
    }
   ],
   "source": [
    "plt.figure()\n",
    "plt.plot(log_data.epoch, log_data.train_accuracy, label='train')\n",
    "plt.plot(log_data.epoch, test_accuracy*np.ones(log_data.epoch.shape), label=f'test: {test_accuracy:3.3f}')\n",
    "plt.legend(); plt.xlabel('epoch'); plt.ylabel('MSE');"
   ]
  },
  {
   "cell_type": "markdown",
   "metadata": {},
   "source": [
    "#### Prediction of the first point"
   ]
  },
  {
   "cell_type": "code",
   "execution_count": 37,
   "metadata": {
    "ExecuteTime": {
     "end_time": "2021-12-24T13:43:49.664530Z",
     "start_time": "2021-12-24T13:43:48.556378Z"
    }
   },
   "outputs": [
    {
     "data": {
      "image/png": "[encoded data removed]",
      "text/plain": [
       "<Figure size 864x648 with 1 Axes>"
      ]
     },
     "metadata": {
      "needs_background": "light"
     },
     "output_type": "display_data"
    }
   ],
   "source": [
    "test_loader = torch.utils.data.DataLoader(test_dataset, batch_size=2000, shuffle=False, drop_last=False)    \n",
    "for X, y in test_loader:\n",
    "    X, y = X.to(device), y.to(device)\n",
    "    y_pred = model(X)\n",
    "    \n",
    "    plt.figure(figsize=(12,9))\n",
    "    plt.plot(y[:200,1].cpu())\n",
    "    plt.plot(y_pred[:200,1].detach().cpu())\n",
    "\n",
    "    break"
   ]
  },
  {
   "cell_type": "markdown",
   "metadata": {
    "ExecuteTime": {
     "end_time": "2021-01-02T08:05:47.200349Z",
     "start_time": "2021-01-02T08:05:47.184537Z"
    }
   },
   "source": [
    "#### Compute MSE over prediction horizon\n",
    "Note that the  model produces prediction for 72h into the future. The current loss minimizes the average means square error.<br>\n",
    "In general, we expect the accuracy to drop as prediction range increases. "
   ]
  },
  {
   "cell_type": "code",
   "execution_count": 38,
   "metadata": {
    "ExecuteTime": {
     "end_time": "2021-12-24T13:44:01.414260Z",
     "start_time": "2021-12-24T13:44:00.179368Z"
    }
   },
   "outputs": [
    {
     "data": {
      "image/png": "[encoded data removed]",
      "text/plain": [
       "<Figure size 864x648 with 1 Axes>"
      ]
     },
     "metadata": {
      "needs_background": "light"
     },
     "output_type": "display_data"
    }
   ],
   "source": [
    "test_loader = torch.utils.data.DataLoader(test_dataset, batch_size=2000, shuffle=False, drop_last=False)    \n",
    "mse_t = torch.zeros(all_data.horizon_samples)\n",
    "for (X, y) in test_loader:\n",
    "    X, y = X.to(device), y.to(device)\n",
    "    y_pred = model(X)\n",
    "    \n",
    "    mse_t += (y_pred-y).square().sum(dim=0).to(\"cpu\").detach() # computes 72 values for accuracy, summed over the batch \n",
    "    \n",
    "mse_t = mse_t / len(test_dataset)\n",
    "\n",
    "plt.figure(figsize=(12,9))\n",
    "plt.plot(mse_t, '*:')\n",
    "plt.xlabel('time, h'); plt.ylabel('Mean MSE');"
   ]
  },
  {
   "cell_type": "markdown",
   "metadata": {},
   "source": [
    "## Multichannel CNN"
   ]
  },
  {
   "cell_type": "markdown",
   "metadata": {},
   "source": [
    "### dataset\n",
    "#### Define Multichannel Dataset"
   ]
  },
  {
   "cell_type": "code",
   "execution_count": 39,
   "metadata": {
    "ExecuteTime": {
     "end_time": "2021-12-24T13:49:15.581299Z",
     "start_time": "2021-12-24T13:49:15.544215Z"
    }
   },
   "outputs": [],
   "source": [
    "class TimeSeriesMultichannelDataSet(torch.utils.data.Dataset):\n",
    "    \"\"\"Loads and provides access to MNIST Dataset\"\"\"\n",
    "    \n",
    "    def __init__(self, data_folder, history_samples, horizon_samples):\n",
    "        import pandas as pd, os, torch, numpy as np\n",
    "        super(TimeSeriesMultichannelDataSet).__init__() # call parent class constructor. \n",
    "        \n",
    "        self.data_folder = data_folder\n",
    "        self.history_samples = history_samples\n",
    "        self.horizon_samples = horizon_samples\n",
    "        \n",
    "        self.df = pd.read_csv( os.path.join(self.data_folder, 'ER admission_1.csv') )\n",
    "        self.df['t'] = pd.to_datetime(self.df['t'])\n",
    "        self.df['weekday'] = self.df['t'].apply(lambda x: x.weekday())\n",
    "        self.df['hour'] = self.df['t'].apply(lambda x: x.hour)\n",
    "        \n",
    "        holidays = pd.read_csv( os.path.join(self.data_folder, 'IsraeliHolidays.csv') )\n",
    "        holidays['Date'] = pd.to_datetime(holidays['Date']).apply(lambda x: x.date())\n",
    "        self.df['is_holiday'] = self.df['t'].apply(lambda x: x.date()).isin(holidays['Date']).astype(np.float32)\n",
    "        \n",
    "        self.df = self.df.reset_index(drop=True).set_index('t')        \n",
    "        \n",
    "        self.df = pd.get_dummies(self.df, columns=['weekday', 'hour'], dtype=np.float32)\n",
    "        \n",
    "        self.number_of_channels = self.df.shape[1] # number of columns. \n",
    "\n",
    "    def __len__(self):\n",
    "        return len(self.df) - self.history_samples - self.horizon_samples + 1\n",
    "\n",
    "    def __getitem__(self, idx):\n",
    "        import torch\n",
    "        if idx >= self.__len__():\n",
    "            raise  IndexError(f'Index out of range: {idx} out of {self.__len__()}')\n",
    "        x = torch.FloatTensor(self.df.iloc[idx:idx+ self.history_samples].values)\n",
    "        y = torch.FloatTensor(self.df.iloc[idx+ self.history_samples : idx+self.history_samples + self.horizon_samples]['n'].values)\n",
    "        return (x.transpose(-1,-2).unsqueeze(-3), y) # number of samples, number of channels\n",
    "    "
   ]
  },
  {
   "cell_type": "markdown",
   "metadata": {},
   "source": [
    "#### Load and scale the data "
   ]
  },
  {
   "cell_type": "code",
   "execution_count": 52,
   "metadata": {
    "ExecuteTime": {
     "end_time": "2021-12-24T13:53:02.060657Z",
     "start_time": "2021-12-24T13:52:57.858685Z"
    }
   },
   "outputs": [],
   "source": [
    "all_data = TimeSeriesMultichannelDataSet(data_folder,\n",
    "                history_samples=24*14, \n",
    "                horizon_samples=24*3)\n",
    "# split into train and test set\n",
    "train_dataset = torch.utils.data.Subset(all_data, list(range(int(len(all_data)*0.9))))\n",
    "test_dataset = torch.utils.data.Subset(all_data, list(range(int(len(all_data)*0.9)+all_data.history_samples+all_data.horizon_samples, len(all_data))))\n",
    "# normalize\n",
    "from sklearn.preprocessing import MinMaxScaler\n",
    "scaler = MinMaxScaler(feature_range=(0, 1))\n",
    "# train scaler on the train set: 0 to len(train_set) + history_samples + horizon_samples\n",
    "scaler.fit(all_data.df['n'].iloc[:len(train_dataset)+all_data.history_samples+all_data.horizon_samples].values.reshape(-1, 1) )\n",
    "all_data.df['n'] = scaler.transform(all_data.df['n'].values.reshape(-1,1))"
   ]
  },
  {
   "cell_type": "markdown",
   "metadata": {},
   "source": [
    "### Define 2d CNN "
   ]
  },
  {
   "cell_type": "code",
   "execution_count": 67,
   "metadata": {
    "ExecuteTime": {
     "end_time": "2021-12-24T14:06:05.975879Z",
     "start_time": "2021-12-24T14:06:05.955874Z"
    }
   },
   "outputs": [],
   "source": [
    "class CNNModel1b(torch.nn.Module):\n",
    "    def __init__(self, window_size,  input_dim, output_dim):\n",
    "        super(CNNModel1b, self).__init__()\n",
    "        self.window_size  = window_size # number of samples to train from. \n",
    "        self.input_dim = input_dim # number of features in the input. \n",
    "        self.output_dim = output_dim # number of features to predict. \n",
    "\n",
    "        # Define the Conv1 layer\n",
    "        # batch_size x input_dim  x  336 -> batch_size x 25 x  336\n",
    "        self.conv1 = torch.nn.Conv2d(in_channels=1, out_channels= 25, kernel_size=[9,33], padding=[4,16])\n",
    "        #self.conv1 = torch.nn.Conv2d(in_channels=1, out_channels= 25, kernel_size=[33,9], padding=[16, 4])\n",
    "        self.relu1 = torch.nn.ReLU()\n",
    "        #self.bn1 = torch.nn.BatchNorm1d(25)\n",
    "        # batch_size x 25 x  336 -> batch_size x 25 x  336/2\n",
    "        self.maxpool1 = torch.nn.MaxPool2d(kernel_size=(2,2))\n",
    "        #self.dropout1 = torch.nn.Dropout(0.3)\n",
    "        \n",
    "        # batch_size x 25 x  336/2 -> batch_size x 20 x  336/2=84\n",
    "        self.conv2 = torch.nn.Conv2d( 25, 20, kernel_size=(5,5), padding=(2,2))\n",
    "        self.relu2 = torch.nn.ReLU()\n",
    "        #self.bn2 = torch.nn.BatchNorm1d(20)\n",
    "        self.maxpool2 = torch.nn.MaxPool2d(kernel_size=(2,2))\n",
    "        \n",
    "        # batch_size x 25 x  336/2 -> batch_size x 20 x  336/4=84\n",
    "        #self.maxpool2 = torch.nn.MaxPool1d(kernel_size=2, stride=2)\n",
    "        #self.dropout2 = torch.nn.Dropout(0.3)\n",
    "        \n",
    "\n",
    "        # Define the dense layers. \n",
    "        self.fc1 = torch.nn.Linear(20*int(self.window_size/4) *int(self.input_dim/4), 100)\n",
    "        self.relu1 = torch.nn.ReLU()\n",
    "        self.fc2 = torch.nn.Linear(100, self.output_dim)\n",
    "\n",
    "    def forward(self, x):\n",
    "        #x shape: batch_size x input_dim x window_size\n",
    "        if x.ndim == 3: \n",
    "            x = x.unsqueeze(0)\n",
    "        batch_size = x.shape[0] # first dimension of the input is the number of batches. \n",
    "        #print(x.shape)\n",
    "        x = self.relu1(self.conv1(x))     \n",
    "        x = self.maxpool1(x)\n",
    "        #print(x.shape)\n",
    "        x = self.relu2(self.conv2(x))     \n",
    "        x = self.maxpool1(x)\n",
    "        #print(x.shape)\n",
    "        x = self.relu1(self.fc1(x.view(batch_size,-1)))\n",
    "        x = self.fc2(x)\n",
    "\n",
    "        return x"
   ]
  },
  {
   "cell_type": "markdown",
   "metadata": {},
   "source": [
    "#### Demonstrate use of the dataset"
   ]
  },
  {
   "cell_type": "code",
   "execution_count": 68,
   "metadata": {
    "ExecuteTime": {
     "end_time": "2021-12-24T14:06:08.040816Z",
     "start_time": "2021-12-24T14:06:07.948820Z"
    }
   },
   "outputs": [
    {
     "data": {
      "text/plain": [
       "(torch.Size([3, 1, 33, 336]), torch.Size([3, 72]), torch.Size([3, 72]))"
      ]
     },
     "execution_count": 68,
     "metadata": {},
     "output_type": "execute_result"
    }
   ],
   "source": [
    "# all_data.number_of_channels = 33!\n",
    "model = CNNModel1b(window_size=all_data.history_samples,  input_dim=all_data.number_of_channels, output_dim=all_data.horizon_samples)\n",
    "\n",
    "train_loader = torch.utils.data.DataLoader(train_dataset, batch_size=3, shuffle=True, drop_last=False)    \n",
    "x, y = next(iter(train_loader))\n",
    "\n",
    "x.shape,model(x).shape, y.shape"
   ]
  },
  {
   "cell_type": "code",
   "execution_count": null,
   "metadata": {
    "ExecuteTime": {
     "start_time": "2021-12-24T14:06:09.973Z"
    }
   },
   "outputs": [],
   "source": [
    "checkpoint_file_name = os.path.join(data_folder, 'ER Admission - CNN -1b.checkpoint.pt' )\n",
    "n_epochs = 15\n",
    "batch_size = 200\n",
    "\n",
    "model = CNNModel1b(window_size=all_data.history_samples,  input_dim=all_data.number_of_channels, output_dim=all_data.horizon_samples)\n",
    "criterion = torch.nn.MSELoss()\n",
    "optimizer = torch.optim.Adam(model.parameters(), lr = 0.01)\n",
    "\n",
    "\n",
    "model, progress_log = training_loop(model, optimizer, criterion, device, train_dataset, validation_dataset=None, \n",
    "                    n_epochs = n_epochs, batch_size = batch_size, \n",
    "                    checkpoint_file_name=checkpoint_file_name) "
   ]
  },
  {
   "cell_type": "code",
   "execution_count": 36,
   "metadata": {
    "ExecuteTime": {
     "end_time": "2021-01-13T08:24:11.205837Z",
     "start_time": "2021-01-13T08:24:11.178435Z"
    }
   },
   "outputs": [
    {
     "name": "stdout",
     "output_type": "stream",
     "text": [
      "0 of 15. Loss: 0.2045.Train accuracy: 0.0169.\n",
      "1 of 15. Loss: 0.0142.Train accuracy: 0.0099.\n",
      "2 of 15. Loss: 0.0095.Train accuracy: 0.0098.\n",
      "3 of 15. Loss: 0.0092.Train accuracy: 0.0093.\n",
      "4 of 15. Loss: 0.0092.Train accuracy: 0.0091.\n",
      "5 of 15. Loss: 0.0091.Train accuracy: 0.0090.\n",
      "6 of 15. Loss: 0.0090.Train accuracy: 0.0089.\n",
      "7 of 15. Loss: 0.0089.Train accuracy: 0.0088.\n",
      "8 of 15. Loss: 0.0089.Train accuracy: 0.0087.\n",
      "9 of 15. Loss: 0.0088.Train accuracy: 0.0088.\n",
      "10 of 15. Loss: 0.0087.Train accuracy: 0.0086.\n",
      "11 of 15. Loss: 0.0085.Train accuracy: 0.0087.\n",
      "12 of 15. Loss: 0.0085.Train accuracy: 0.0084.\n",
      "13 of 15. Loss: 0.0084.Train accuracy: 0.0084.\n",
      "14 of 15. Loss: 0.0083.Train accuracy: 0.0083.\n"
     ]
    }
   ],
   "source": [
    "for log_entry in progress_log: \n",
    "    print(f\"{log_entry['epoch']} of {len(progress_log)}. Loss: {log_entry['loss']:0.4f}.Train accuracy: {log_entry['train_accuracy'].item():0.4f}.\")"
   ]
  },
  {
   "cell_type": "code",
   "execution_count": null,
   "metadata": {},
   "outputs": [],
   "source": []
  },
  {
   "cell_type": "code",
   "execution_count": 20,
   "metadata": {
    "ExecuteTime": {
     "end_time": "2021-01-12T20:36:15.090609Z",
     "start_time": "2021-01-12T20:36:15.019771Z"
    }
   },
   "outputs": [],
   "source": [
    "import gc\n",
    "del optimizer, model\n",
    "gc.collect()\n",
    "torch.cuda.empty_cache()"
   ]
  },
  {
   "cell_type": "code",
   "execution_count": null,
   "metadata": {},
   "outputs": [],
   "source": []
  }
 ],
 "metadata": {
  "kernelspec": {
   "display_name": "Python 3 (ipykernel)",
   "language": "python",
   "name": "python3"
  },
  "language_info": {
   "codemirror_mode": {
    "name": "ipython",
    "version": 3
   },
   "file_extension": ".py",
   "mimetype": "text/x-python",
   "name": "python",
   "nbconvert_exporter": "python",
   "pygments_lexer": "ipython3",
   "version": "3.8.12"
  },
  "toc": {
   "base_numbering": 1,
   "nav_menu": {},
   "number_sections": true,
   "sideBar": true,
   "skip_h1_title": true,
   "title_cell": "Table of Contents",
   "title_sidebar": "Contents",
   "toc_cell": false,
   "toc_position": {
    "height": "calc(100% - 180px)",
    "left": "10px",
    "top": "150px",
    "width": "362px"
   },
   "toc_section_display": true,
   "toc_window_display": true
  }
 },
 "nbformat": 4,
 "nbformat_minor": 4
}
